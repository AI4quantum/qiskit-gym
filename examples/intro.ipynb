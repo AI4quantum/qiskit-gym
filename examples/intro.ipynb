{
 "cells": [
  {
   "cell_type": "code",
   "execution_count": 1,
   "id": "70940e2e",
   "metadata": {},
   "outputs": [],
   "source": [
    "from qiskit_gym.envs import LinearFunctionGym, CliffordGym, PermutationGym\n",
    "from qiskit_gym.rl import RLSynthesis, PPOConfig, AlphaZeroConfig, BasicPolicyConfig"
   ]
  },
  {
   "cell_type": "code",
   "execution_count": 2,
   "id": "0ac4d115",
   "metadata": {},
   "outputs": [],
   "source": [
    "from qiskit import QuantumCircuit\n",
    "from qiskit.transpiler import CouplingMap\n",
    "import numpy as np"
   ]
  },
  {
   "cell_type": "markdown",
   "id": "b3df77fb",
   "metadata": {},
   "source": [
    "# Permutation"
   ]
  },
  {
   "cell_type": "markdown",
   "id": "1a8d8a78",
   "metadata": {},
   "source": [
    "### Setup env"
   ]
  },
  {
   "cell_type": "code",
   "execution_count": 3,
   "id": "75e1c236",
   "metadata": {},
   "outputs": [
    {
     "data": {
      "text/plain": [
       "[('SWAP', (0, 1)),\n",
       " ('SWAP', (0, 3)),\n",
       " ('SWAP', (1, 2)),\n",
       " ('SWAP', (1, 4)),\n",
       " ('SWAP', (2, 5)),\n",
       " ('SWAP', (3, 4)),\n",
       " ('SWAP', (3, 6)),\n",
       " ('SWAP', (4, 5)),\n",
       " ('SWAP', (4, 7)),\n",
       " ('SWAP', (5, 8)),\n",
       " ('SWAP', (6, 7)),\n",
       " ('SWAP', (7, 8))]"
      ]
     },
     "execution_count": 3,
     "metadata": {},
     "output_type": "execute_result"
    }
   ],
   "source": [
    "cmap_3x3 = CouplingMap.from_grid(3,3, bidirectional=False)\n",
    "env = PermutationGym.from_coupling_map(cmap_3x3)\n",
    "rls = RLSynthesis(env, PPOConfig(), BasicPolicyConfig())\n",
    "\n",
    "rls.env.config[\"gateset\"]"
   ]
  },
  {
   "cell_type": "markdown",
   "id": "31880450",
   "metadata": {},
   "source": [
    "### Train the model"
   ]
  },
  {
   "cell_type": "code",
   "execution_count": 4,
   "id": "d9dfa2a5",
   "metadata": {},
   "outputs": [
    {
     "name": "stderr",
     "output_type": "stream",
     "text": [
      "\u001b[32m2025-08-31 17:45:33.764\u001b[0m | \u001b[1mINFO    \u001b[0m | \u001b[36mtwisterl.rl.algorithm\u001b[0m:\u001b[36mlearn\u001b[0m:\u001b[36m152\u001b[0m - \u001b[1m(1/0) {'successes': {'ppo_deterministic': 0.10000000149011612, 'ppo_10': 0.6600000262260437}, 'rewards': {'ppo_deterministic': -0.357421875, 'ppo_10': 0.4847656190395355}, 'difficulty': 1, 'success': 0.10000000149011612, 'reward': -0.357421875} | {'to_rust': 0.006806819, 'eval_ppo_deterministic': 0.004226724, 'eval_ppo_10': 0.010899603, 'collect': 0.015823055, 'data_to_torch': 0.364470922, 'train': 0.352989206, 'total': 0.755962711}\u001b[0m\n",
      "\u001b[32m2025-08-31 17:45:33.773\u001b[0m | \u001b[1mINFO    \u001b[0m | \u001b[36mtwisterl.rl.algorithm\u001b[0m:\u001b[36mlearn\u001b[0m:\u001b[36m160\u001b[0m - \u001b[1m(1/0) Improved, saved checkpoint!\u001b[0m\n",
      "\u001b[32m2025-08-31 17:45:33.862\u001b[0m | \u001b[1mINFO    \u001b[0m | \u001b[36mtwisterl.rl.algorithm\u001b[0m:\u001b[36mlearn\u001b[0m:\u001b[36m152\u001b[0m - \u001b[1m(1/1) {'successes': {'ppo_deterministic': 0.05000000074505806, 'ppo_10': 0.5699999928474426}, 'rewards': {'ppo_deterministic': -0.4326171875, 'ppo_10': 0.34941405057907104}, 'difficulty': 1, 'success': 0.05000000074505806, 'reward': -0.4326171875} | {'to_rust': 0.006365056, 'eval_ppo_deterministic': 0.004312938, 'eval_ppo_10': 0.010625965, 'collect': 0.014780658, 'data_to_torch': 0.0135365, 'train': 0.028683751, 'total': 0.078717846}\u001b[0m\n",
      "\u001b[32m2025-08-31 17:45:33.946\u001b[0m | \u001b[1mINFO    \u001b[0m | \u001b[36mtwisterl.rl.algorithm\u001b[0m:\u001b[36mlearn\u001b[0m:\u001b[36m152\u001b[0m - \u001b[1m(1/2) {'successes': {'ppo_deterministic': 0.15000000596046448, 'ppo_10': 0.6200000047683716}, 'rewards': {'ppo_deterministic': -0.2822265625, 'ppo_10': 0.42460936307907104}, 'difficulty': 1, 'success': 0.15000000596046448, 'reward': -0.2822265625} | {'to_rust': 0.008626761, 'eval_ppo_deterministic': 0.004094787, 'eval_ppo_10': 0.011172427, 'collect': 0.01497497, 'data_to_torch': 0.013066592, 'train': 0.029085833, 'total': 0.081483018}\u001b[0m\n",
      "\u001b[32m2025-08-31 17:45:33.949\u001b[0m | \u001b[1mINFO    \u001b[0m | \u001b[36mtwisterl.rl.algorithm\u001b[0m:\u001b[36mlearn\u001b[0m:\u001b[36m160\u001b[0m - \u001b[1m(1/2) Improved, saved checkpoint!\u001b[0m\n",
      "\u001b[32m2025-08-31 17:45:34.030\u001b[0m | \u001b[1mINFO    \u001b[0m | \u001b[36mtwisterl.rl.algorithm\u001b[0m:\u001b[36mlearn\u001b[0m:\u001b[36m152\u001b[0m - \u001b[1m(1/3) {'successes': {'ppo_deterministic': 0.07999999821186066, 'ppo_10': 0.5699999928474426}, 'rewards': {'ppo_deterministic': -0.38749998807907104, 'ppo_10': 0.34941405057907104}, 'difficulty': 1, 'success': 0.07999999821186066, 'reward': -0.38749998807907104} | {'to_rust': 0.0077816, 'eval_ppo_deterministic': 0.003895968, 'eval_ppo_10': 0.010702377, 'collect': 0.015424586, 'data_to_torch': 0.013160152, 'train': 0.028201418, 'total': 0.07962763}\u001b[0m\n",
      "\u001b[32m2025-08-31 17:45:34.111\u001b[0m | \u001b[1mINFO    \u001b[0m | \u001b[36mtwisterl.rl.algorithm\u001b[0m:\u001b[36mlearn\u001b[0m:\u001b[36m152\u001b[0m - \u001b[1m(1/4) {'successes': {'ppo_deterministic': 0.1599999964237213, 'ppo_10': 0.6600000262260437}, 'rewards': {'ppo_deterministic': -0.2671875059604645, 'ppo_10': 0.4847656190395355}, 'difficulty': 1, 'success': 0.1599999964237213, 'reward': -0.2671875059604645} | {'to_rust': 0.008180767, 'eval_ppo_deterministic': 0.003881089, 'eval_ppo_10': 0.009555201, 'collect': 0.015372547, 'data_to_torch': 0.013108504, 'train': 0.029931292, 'total': 0.080646775}\u001b[0m\n",
      "\u001b[32m2025-08-31 17:45:34.115\u001b[0m | \u001b[1mINFO    \u001b[0m | \u001b[36mtwisterl.rl.algorithm\u001b[0m:\u001b[36mlearn\u001b[0m:\u001b[36m160\u001b[0m - \u001b[1m(1/4) Improved, saved checkpoint!\u001b[0m\n",
      "\u001b[32m2025-08-31 17:45:34.199\u001b[0m | \u001b[1mINFO    \u001b[0m | \u001b[36mtwisterl.rl.algorithm\u001b[0m:\u001b[36mlearn\u001b[0m:\u001b[36m152\u001b[0m - \u001b[1m(1/5) {'successes': {'ppo_deterministic': 0.4300000071525574, 'ppo_10': 0.5299999713897705}, 'rewards': {'ppo_deterministic': 0.13886718451976776, 'ppo_10': 0.28925782442092896}, 'difficulty': 1, 'success': 0.4300000071525574, 'reward': 0.13886718451976776} | {'to_rust': 0.009316508, 'eval_ppo_deterministic': 0.003582807, 'eval_ppo_10': 0.011545369, 'collect': 0.014470615, 'data_to_torch': 0.014154674, 'train': 0.028670847, 'total': 0.082256984}\u001b[0m\n",
      "\u001b[32m2025-08-31 17:45:34.202\u001b[0m | \u001b[1mINFO    \u001b[0m | \u001b[36mtwisterl.rl.algorithm\u001b[0m:\u001b[36mlearn\u001b[0m:\u001b[36m160\u001b[0m - \u001b[1m(1/5) Improved, saved checkpoint!\u001b[0m\n",
      "\u001b[32m2025-08-31 17:45:34.283\u001b[0m | \u001b[1mINFO    \u001b[0m | \u001b[36mtwisterl.rl.algorithm\u001b[0m:\u001b[36mlearn\u001b[0m:\u001b[36m152\u001b[0m - \u001b[1m(1/6) {'successes': {'ppo_deterministic': 0.5199999809265137, 'ppo_10': 0.5699999928474426}, 'rewards': {'ppo_deterministic': 0.27421873807907104, 'ppo_10': 0.34941405057907104}, 'difficulty': 1, 'success': 0.5199999809265137, 'reward': 0.27421873807907104} | {'to_rust': 0.008441133, 'eval_ppo_deterministic': 0.005017693, 'eval_ppo_10': 0.009438812, 'collect': 0.014050073, 'data_to_torch': 0.013466768, 'train': 0.028795662, 'total': 0.079630788}\u001b[0m\n",
      "\u001b[32m2025-08-31 17:45:34.286\u001b[0m | \u001b[1mINFO    \u001b[0m | \u001b[36mtwisterl.rl.algorithm\u001b[0m:\u001b[36mlearn\u001b[0m:\u001b[36m160\u001b[0m - \u001b[1m(1/6) Improved, saved checkpoint!\u001b[0m\n",
      "\u001b[32m2025-08-31 17:45:34.367\u001b[0m | \u001b[1mINFO    \u001b[0m | \u001b[36mtwisterl.rl.algorithm\u001b[0m:\u001b[36mlearn\u001b[0m:\u001b[36m152\u001b[0m - \u001b[1m(1/7) {'successes': {'ppo_deterministic': 0.6899999976158142, 'ppo_10': 0.6100000143051147}, 'rewards': {'ppo_deterministic': 0.5298827886581421, 'ppo_10': 0.4095703065395355}, 'difficulty': 1, 'success': 0.6899999976158142, 'reward': 0.5298827886581421} | {'to_rust': 0.007775714, 'eval_ppo_deterministic': 0.003610588, 'eval_ppo_10': 0.010038765, 'collect': 0.014786662, 'data_to_torch': 0.014011747, 'train': 0.029453123, 'total': 0.080138831}\u001b[0m\n",
      "\u001b[32m2025-08-31 17:45:34.370\u001b[0m | \u001b[1mINFO    \u001b[0m | \u001b[36mtwisterl.rl.algorithm\u001b[0m:\u001b[36mlearn\u001b[0m:\u001b[36m160\u001b[0m - \u001b[1m(1/7) Improved, saved checkpoint!\u001b[0m\n",
      "\u001b[32m2025-08-31 17:45:34.452\u001b[0m | \u001b[1mINFO    \u001b[0m | \u001b[36mtwisterl.rl.algorithm\u001b[0m:\u001b[36mlearn\u001b[0m:\u001b[36m152\u001b[0m - \u001b[1m(1/8) {'successes': {'ppo_deterministic': 0.8199999928474426, 'ppo_10': 0.6700000166893005}, 'rewards': {'ppo_deterministic': 0.725390613079071, 'ppo_10': 0.49980467557907104}, 'difficulty': 1, 'success': 0.8199999928474426, 'reward': 0.725390613079071} | {'to_rust': 0.008057237, 'eval_ppo_deterministic': 0.003399771, 'eval_ppo_10': 0.011858304, 'collect': 0.014591194, 'data_to_torch': 0.015150447, 'train': 0.027402437, 'total': 0.080934557}\u001b[0m\n",
      "\u001b[32m2025-08-31 17:45:34.455\u001b[0m | \u001b[1mINFO    \u001b[0m | \u001b[36mtwisterl.rl.algorithm\u001b[0m:\u001b[36mlearn\u001b[0m:\u001b[36m160\u001b[0m - \u001b[1m(1/8) Improved, saved checkpoint!\u001b[0m\n",
      "\u001b[32m2025-08-31 17:45:34.537\u001b[0m | \u001b[1mINFO    \u001b[0m | \u001b[36mtwisterl.rl.algorithm\u001b[0m:\u001b[36mlearn\u001b[0m:\u001b[36m148\u001b[0m - \u001b[1m(2/9) Diff increased to 2, (1, 0.9399999976158142, 0.9058593511581421)\u001b[0m\n",
      "\u001b[32m2025-08-31 17:45:34.538\u001b[0m | \u001b[1mINFO    \u001b[0m | \u001b[36mtwisterl.rl.algorithm\u001b[0m:\u001b[36mlearn\u001b[0m:\u001b[36m152\u001b[0m - \u001b[1m(2/9) {'successes': {'ppo_deterministic': 0.9399999976158142, 'ppo_10': 0.7400000095367432}, 'rewards': {'ppo_deterministic': 0.9058593511581421, 'ppo_10': 0.6050781011581421}, 'difficulty': 1, 'success': 0.9399999976158142, 'reward': 0.9058593511581421} | {'to_rust': 0.00763451, 'eval_ppo_deterministic': 0.003155667, 'eval_ppo_10': 0.010487979, 'collect': 0.01630566, 'data_to_torch': 0.014887083, 'train': 0.028056681, 'total': 0.080958703}\u001b[0m\n",
      "\u001b[32m2025-08-31 17:45:34.540\u001b[0m | \u001b[1mINFO    \u001b[0m | \u001b[36mtwisterl.rl.algorithm\u001b[0m:\u001b[36mlearn\u001b[0m:\u001b[36m160\u001b[0m - \u001b[1m(2/9) Improved, saved checkpoint!\u001b[0m\n"
     ]
    }
   ],
   "source": [
    "rls.learn(num_iterations=10, tb_path=\"runs/perm_square_3x3/\")"
   ]
  },
  {
   "cell_type": "markdown",
   "id": "ad0a86cc",
   "metadata": {},
   "source": [
    "### Save (or load) config and model"
   ]
  },
  {
   "cell_type": "code",
   "execution_count": 5,
   "id": "cc03ff1f",
   "metadata": {},
   "outputs": [],
   "source": [
    "#rls.save(\"models/perm_square_3x3.json\", \"models/perm_square_3x3.pt\")\n",
    "\n",
    "rls = RLSynthesis.from_config_json(\"models/perm_square_3x3.json\", \"models/perm_square_3x3.pt\")"
   ]
  },
  {
   "cell_type": "markdown",
   "id": "19a26ffa",
   "metadata": {},
   "source": [
    "### Try it"
   ]
  },
  {
   "cell_type": "code",
   "execution_count": 6,
   "id": "22bcfd3c",
   "metadata": {},
   "outputs": [
    {
     "data": {
      "text/html": [
       "<pre style=\"word-wrap: normal;white-space: pre;background: #fff0;line-height: 1.1;font-family: &quot;Courier New&quot;,Courier,monospace\">                          \n",
       "q_0: ─────────────X───────\n",
       "                  │       \n",
       "q_1: ─────────────┼──X──X─\n",
       "                  │  │  │ \n",
       "q_2: ─────────────┼──┼──X─\n",
       "                  │  │    \n",
       "q_3: ─X──X─────X──X──┼────\n",
       "      │  │     │     │    \n",
       "q_4: ─X──┼──X──X─────X──X─\n",
       "         │  │           │ \n",
       "q_5: ────┼──X───────────┼─\n",
       "         │              │ \n",
       "q_6: ────X──────────────┼─\n",
       "                        │ \n",
       "q_7: ───────────────────X─\n",
       "                          \n",
       "q_8: ─────────────────────\n",
       "                          </pre>"
      ],
      "text/plain": [
       "                          \n",
       "q_0: ─────────────X───────\n",
       "                  │       \n",
       "q_1: ─────────────┼──X──X─\n",
       "                  │  │  │ \n",
       "q_2: ─────────────┼──┼──X─\n",
       "                  │  │    \n",
       "q_3: ─X──X─────X──X──┼────\n",
       "      │  │     │     │    \n",
       "q_4: ─X──┼──X──X─────X──X─\n",
       "         │  │           │ \n",
       "q_5: ────┼──X───────────┼─\n",
       "         │              │ \n",
       "q_6: ────X──────────────┼─\n",
       "                        │ \n",
       "q_7: ───────────────────X─\n",
       "                          \n",
       "q_8: ─────────────────────\n",
       "                          "
      ]
     },
     "execution_count": 6,
     "metadata": {},
     "output_type": "execute_result"
    }
   ],
   "source": [
    "some_perm = np.random.permutation(9)\n",
    "\n",
    "qc_perm = rls.synth(some_perm, num_searches=1000, num_mcts_searches=0, deterministic=False)\n",
    "qc_perm.draw(fold=-1)"
   ]
  },
  {
   "cell_type": "code",
   "execution_count": 7,
   "id": "6459e837",
   "metadata": {},
   "outputs": [
    {
     "data": {
      "text/html": [
       "<pre style=\"word-wrap: normal;white-space: pre;background: #fff0;line-height: 1.1;font-family: &quot;Courier New&quot;,Courier,monospace\">        \n",
       "q_0: ─X─\n",
       "      │ \n",
       "q_1: ─┼─\n",
       "      │ \n",
       "q_2: ─┼─\n",
       "      │ \n",
       "q_3: ─┼─\n",
       "      │ \n",
       "q_4: ─┼─\n",
       "      │ \n",
       "q_5: ─┼─\n",
       "      │ \n",
       "q_6: ─┼─\n",
       "      │ \n",
       "q_7: ─┼─\n",
       "      │ \n",
       "q_8: ─X─\n",
       "        </pre>"
      ],
      "text/plain": [
       "        \n",
       "q_0: ─X─\n",
       "      │ \n",
       "q_1: ─┼─\n",
       "      │ \n",
       "q_2: ─┼─\n",
       "      │ \n",
       "q_3: ─┼─\n",
       "      │ \n",
       "q_4: ─┼─\n",
       "      │ \n",
       "q_5: ─┼─\n",
       "      │ \n",
       "q_6: ─┼─\n",
       "      │ \n",
       "q_7: ─┼─\n",
       "      │ \n",
       "q_8: ─X─\n",
       "        "
      ]
     },
     "execution_count": 7,
     "metadata": {},
     "output_type": "execute_result"
    }
   ],
   "source": [
    "qc_perm_input = QuantumCircuit(9)\n",
    "qc_perm_input.swap(0,8)\n",
    "qc_perm_input.draw(fold=-1)"
   ]
  },
  {
   "cell_type": "code",
   "execution_count": 8,
   "id": "feb1666f",
   "metadata": {},
   "outputs": [
    {
     "data": {
      "text/html": [
       "<pre style=\"word-wrap: normal;white-space: pre;background: #fff0;line-height: 1.1;font-family: &quot;Courier New&quot;,Courier,monospace\">                    \n",
       "q_0: ─X────────X────\n",
       "      │        │    \n",
       "q_1: ─┼────────┼────\n",
       "      │        │    \n",
       "q_2: ─┼────────┼────\n",
       "      │        │    \n",
       "q_3: ─X─────X──X────\n",
       "            │       \n",
       "q_4: ────X──X──X────\n",
       "         │     │    \n",
       "q_5: ─X──X─────X──X─\n",
       "      │           │ \n",
       "q_6: ─┼───────────┼─\n",
       "      │           │ \n",
       "q_7: ─┼───────────┼─\n",
       "      │           │ \n",
       "q_8: ─X───────────X─\n",
       "                    </pre>"
      ],
      "text/plain": [
       "                    \n",
       "q_0: ─X────────X────\n",
       "      │        │    \n",
       "q_1: ─┼────────┼────\n",
       "      │        │    \n",
       "q_2: ─┼────────┼────\n",
       "      │        │    \n",
       "q_3: ─X─────X──X────\n",
       "            │       \n",
       "q_4: ────X──X──X────\n",
       "         │     │    \n",
       "q_5: ─X──X─────X──X─\n",
       "      │           │ \n",
       "q_6: ─┼───────────┼─\n",
       "      │           │ \n",
       "q_7: ─┼───────────┼─\n",
       "      │           │ \n",
       "q_8: ─X───────────X─\n",
       "                    "
      ]
     },
     "execution_count": 8,
     "metadata": {},
     "output_type": "execute_result"
    }
   ],
   "source": [
    "qc_perm_output = rls.synth(qc_perm_input, num_searches=1000, num_mcts_searches=0, deterministic=False)\n",
    "qc_perm_output.draw(fold=-1)"
   ]
  },
  {
   "cell_type": "markdown",
   "id": "ae2a3a9e",
   "metadata": {},
   "source": [
    "# Linear Function"
   ]
  },
  {
   "cell_type": "code",
   "execution_count": 9,
   "id": "d914266f",
   "metadata": {},
   "outputs": [
    {
     "name": "stderr",
     "output_type": "stream",
     "text": [
      "\u001b[32m2025-08-31 17:45:35.359\u001b[0m | \u001b[1mINFO    \u001b[0m | \u001b[36mtwisterl.rl.algorithm\u001b[0m:\u001b[36mlearn\u001b[0m:\u001b[36m152\u001b[0m - \u001b[1m(1/0) {'successes': {'ppo_deterministic': 0.11999999731779099, 'ppo_10': 0.8199999928474426}, 'rewards': {'ppo_deterministic': -0.32734376192092896, 'ppo_10': 0.725390613079071}, 'difficulty': 1, 'success': 0.11999999731779099, 'reward': -0.32734376192092896} | {'to_rust': 0.004612737, 'eval_ppo_deterministic': 0.004384158, 'eval_ppo_10': 0.010670347, 'collect': 0.014801937, 'data_to_torch': 0.01303543, 'train': 0.031168687, 'total': 0.079136125}\u001b[0m\n",
      "\u001b[32m2025-08-31 17:45:35.364\u001b[0m | \u001b[1mINFO    \u001b[0m | \u001b[36mtwisterl.rl.algorithm\u001b[0m:\u001b[36mlearn\u001b[0m:\u001b[36m160\u001b[0m - \u001b[1m(1/0) Improved, saved checkpoint!\u001b[0m\n",
      "\u001b[32m2025-08-31 17:45:35.450\u001b[0m | \u001b[1mINFO    \u001b[0m | \u001b[36mtwisterl.rl.algorithm\u001b[0m:\u001b[36mlearn\u001b[0m:\u001b[36m152\u001b[0m - \u001b[1m(1/1) {'successes': {'ppo_deterministic': 0.15000000596046448, 'ppo_10': 0.8299999833106995}, 'rewards': {'ppo_deterministic': -0.2822265625, 'ppo_10': 0.740429699420929}, 'difficulty': 1, 'success': 0.15000000596046448, 'reward': -0.2822265625} | {'to_rust': 0.004411756, 'eval_ppo_deterministic': 0.005448589, 'eval_ppo_10': 0.010091202, 'collect': 0.015265754, 'data_to_torch': 0.011986774, 'train': 0.028537055, 'total': 0.076182948}\u001b[0m\n",
      "\u001b[32m2025-08-31 17:45:35.453\u001b[0m | \u001b[1mINFO    \u001b[0m | \u001b[36mtwisterl.rl.algorithm\u001b[0m:\u001b[36mlearn\u001b[0m:\u001b[36m160\u001b[0m - \u001b[1m(1/1) Improved, saved checkpoint!\u001b[0m\n",
      "\u001b[32m2025-08-31 17:45:35.531\u001b[0m | \u001b[1mINFO    \u001b[0m | \u001b[36mtwisterl.rl.algorithm\u001b[0m:\u001b[36mlearn\u001b[0m:\u001b[36m152\u001b[0m - \u001b[1m(1/2) {'successes': {'ppo_deterministic': 0.30000001192092896, 'ppo_10': 0.800000011920929}, 'rewards': {'ppo_deterministic': -0.056640625, 'ppo_10': 0.6953125}, 'difficulty': 1, 'success': 0.30000001192092896, 'reward': -0.056640625} | {'to_rust': 0.007556783, 'eval_ppo_deterministic': 0.003559251, 'eval_ppo_10': 0.010462621, 'collect': 0.015706568, 'data_to_torch': 0.011741534, 'train': 0.028529594, 'total': 0.077960314}\u001b[0m\n",
      "\u001b[32m2025-08-31 17:45:35.534\u001b[0m | \u001b[1mINFO    \u001b[0m | \u001b[36mtwisterl.rl.algorithm\u001b[0m:\u001b[36mlearn\u001b[0m:\u001b[36m160\u001b[0m - \u001b[1m(1/2) Improved, saved checkpoint!\u001b[0m\n",
      "\u001b[32m2025-08-31 17:45:35.612\u001b[0m | \u001b[1mINFO    \u001b[0m | \u001b[36mtwisterl.rl.algorithm\u001b[0m:\u001b[36mlearn\u001b[0m:\u001b[36m152\u001b[0m - \u001b[1m(1/3) {'successes': {'ppo_deterministic': 0.1899999976158142, 'ppo_10': 0.7599999904632568}, 'rewards': {'ppo_deterministic': -0.22207030653953552, 'ppo_10': 0.6351562738418579}, 'difficulty': 1, 'success': 0.1899999976158142, 'reward': -0.22207030653953552} | {'to_rust': 0.007379105, 'eval_ppo_deterministic': 0.003847107, 'eval_ppo_10': 0.009952865, 'collect': 0.014238348, 'data_to_torch': 0.011794424, 'train': 0.029212565, 'total': 0.07685797}\u001b[0m\n",
      "\u001b[32m2025-08-31 17:45:35.688\u001b[0m | \u001b[1mINFO    \u001b[0m | \u001b[36mtwisterl.rl.algorithm\u001b[0m:\u001b[36mlearn\u001b[0m:\u001b[36m152\u001b[0m - \u001b[1m(1/4) {'successes': {'ppo_deterministic': 0.23999999463558197, 'ppo_10': 0.800000011920929}, 'rewards': {'ppo_deterministic': -0.14687499403953552, 'ppo_10': 0.6953125}, 'difficulty': 1, 'success': 0.23999999463558197, 'reward': -0.14687499403953552} | {'to_rust': 0.007237624, 'eval_ppo_deterministic': 0.003429241, 'eval_ppo_10': 0.009637103, 'collect': 0.013910118, 'data_to_torch': 0.011819824, 'train': 0.028852047, 'total': 0.075288969}\u001b[0m\n",
      "\u001b[32m2025-08-31 17:45:35.766\u001b[0m | \u001b[1mINFO    \u001b[0m | \u001b[36mtwisterl.rl.algorithm\u001b[0m:\u001b[36mlearn\u001b[0m:\u001b[36m152\u001b[0m - \u001b[1m(1/5) {'successes': {'ppo_deterministic': 0.27000001072883606, 'ppo_10': 0.7699999809265137}, 'rewards': {'ppo_deterministic': -0.10175780951976776, 'ppo_10': 0.650195300579071}, 'difficulty': 1, 'success': 0.27000001072883606, 'reward': -0.10175780951976776} | {'to_rust': 0.007213094, 'eval_ppo_deterministic': 0.003708875, 'eval_ppo_10': 0.010202048, 'collect': 0.014749891, 'data_to_torch': 0.011533313, 'train': 0.028599179, 'total': 0.076430221}\u001b[0m\n",
      "\u001b[32m2025-08-31 17:45:35.997\u001b[0m | \u001b[1mINFO    \u001b[0m | \u001b[36mtwisterl.rl.algorithm\u001b[0m:\u001b[36mlearn\u001b[0m:\u001b[36m152\u001b[0m - \u001b[1m(1/6) {'successes': {'ppo_deterministic': 0.27000001072883606, 'ppo_10': 0.8399999737739563}, 'rewards': {'ppo_deterministic': -0.10175780951976776, 'ppo_10': 0.7554687261581421}, 'difficulty': 1, 'success': 0.27000001072883606, 'reward': -0.10175780951976776} | {'to_rust': 0.006946704, 'eval_ppo_deterministic': 0.003121332, 'eval_ppo_10': 0.010533829, 'collect': 0.017516106, 'data_to_torch': 0.161640418, 'train': 0.029996068, 'total': 0.230371312}\u001b[0m\n",
      "\u001b[32m2025-08-31 17:45:36.074\u001b[0m | \u001b[1mINFO    \u001b[0m | \u001b[36mtwisterl.rl.algorithm\u001b[0m:\u001b[36mlearn\u001b[0m:\u001b[36m152\u001b[0m - \u001b[1m(1/7) {'successes': {'ppo_deterministic': 0.25, 'ppo_10': 0.8299999833106995}, 'rewards': {'ppo_deterministic': -0.1318359375, 'ppo_10': 0.740429699420929}, 'difficulty': 1, 'success': 0.25, 'reward': -0.1318359375} | {'to_rust': 0.007490091, 'eval_ppo_deterministic': 0.00362244, 'eval_ppo_10': 0.00951112, 'collect': 0.014210034, 'data_to_torch': 0.011287595, 'train': 0.029237346, 'total': 0.075787008}\u001b[0m\n",
      "\u001b[32m2025-08-31 17:45:36.153\u001b[0m | \u001b[1mINFO    \u001b[0m | \u001b[36mtwisterl.rl.algorithm\u001b[0m:\u001b[36mlearn\u001b[0m:\u001b[36m152\u001b[0m - \u001b[1m(1/8) {'successes': {'ppo_deterministic': 0.5799999833106995, 'ppo_10': 0.8700000047683716}, 'rewards': {'ppo_deterministic': 0.36445313692092896, 'ppo_10': 0.800585925579071}, 'difficulty': 1, 'success': 0.5799999833106995, 'reward': 0.36445313692092896} | {'to_rust': 0.007838464, 'eval_ppo_deterministic': 0.004255776, 'eval_ppo_10': 0.009136919, 'collect': 0.014819324, 'data_to_torch': 0.011320482, 'train': 0.029985238, 'total': 0.07776569}\u001b[0m\n",
      "\u001b[32m2025-08-31 17:45:36.156\u001b[0m | \u001b[1mINFO    \u001b[0m | \u001b[36mtwisterl.rl.algorithm\u001b[0m:\u001b[36mlearn\u001b[0m:\u001b[36m160\u001b[0m - \u001b[1m(1/8) Improved, saved checkpoint!\u001b[0m\n",
      "\u001b[32m2025-08-31 17:45:36.233\u001b[0m | \u001b[1mINFO    \u001b[0m | \u001b[36mtwisterl.rl.algorithm\u001b[0m:\u001b[36mlearn\u001b[0m:\u001b[36m152\u001b[0m - \u001b[1m(1/9) {'successes': {'ppo_deterministic': 0.550000011920929, 'ppo_10': 0.8500000238418579}, 'rewards': {'ppo_deterministic': 0.3193359375, 'ppo_10': 0.7705078125}, 'difficulty': 1, 'success': 0.550000011920929, 'reward': 0.3193359375} | {'to_rust': 0.007674666, 'eval_ppo_deterministic': 0.003443153, 'eval_ppo_10': 0.010258507, 'collect': 0.014781692, 'data_to_torch': 0.011552155, 'train': 0.028372145, 'total': 0.07646193}\u001b[0m\n"
     ]
    }
   ],
   "source": [
    "cmap_6_line = CouplingMap.from_line(5, bidirectional=True)\n",
    "env = LinearFunctionGym.from_coupling_map(cmap_6_line, basis_gates=[\"CX\"])\n",
    "\n",
    "rls = RLSynthesis(env, PPOConfig(), BasicPolicyConfig())\n",
    "rls.learn(num_iterations=10, tb_path=\"runs/lf_5_line_ppo/\")  # This will track progress in Tensorboard"
   ]
  },
  {
   "cell_type": "code",
   "execution_count": 10,
   "id": "0ed06ac8",
   "metadata": {},
   "outputs": [],
   "source": [
    "#rls.save(\"models/lf_5_line.json\", \"models/lf_5_line.pt\")\n",
    "\n",
    "rls = RLSynthesis.from_config_json(\"models/lf_5_line.json\", \"models/lf_5_line.pt\")"
   ]
  },
  {
   "cell_type": "code",
   "execution_count": 11,
   "id": "b4471e7d",
   "metadata": {},
   "outputs": [
    {
     "data": {
      "text/html": [
       "<pre style=\"word-wrap: normal;white-space: pre;background: #fff0;line-height: 1.1;font-family: &quot;Courier New&quot;,Courier,monospace\">          \n",
       "q_0: ──■──\n",
       "       │  \n",
       "q_1: ──┼──\n",
       "       │  \n",
       "q_2: ──┼──\n",
       "       │  \n",
       "q_3: ──┼──\n",
       "     ┌─┴─┐\n",
       "q_4: ┤ X ├\n",
       "     └───┘</pre>"
      ],
      "text/plain": [
       "          \n",
       "q_0: ──■──\n",
       "       │  \n",
       "q_1: ──┼──\n",
       "       │  \n",
       "q_2: ──┼──\n",
       "       │  \n",
       "q_3: ──┼──\n",
       "     ┌─┴─┐\n",
       "q_4: ┤ X ├\n",
       "     └───┘"
      ]
     },
     "execution_count": 11,
     "metadata": {},
     "output_type": "execute_result"
    }
   ],
   "source": [
    "qc_lf_input = QuantumCircuit(5)\n",
    "qc_lf_input.cx(0,4)\n",
    "qc_lf_input.draw(fold=-1)"
   ]
  },
  {
   "cell_type": "code",
   "execution_count": 12,
   "id": "16d02eb9",
   "metadata": {},
   "outputs": [
    {
     "data": {
      "text/html": [
       "<pre style=\"word-wrap: normal;white-space: pre;background: #fff0;line-height: 1.1;font-family: &quot;Courier New&quot;,Courier,monospace\">                                                  \n",
       "q_0: ──■───────────────────■──────────────────────\n",
       "     ┌─┴─┐               ┌─┴─┐                    \n",
       "q_1: ┤ X ├──■─────────■──┤ X ├──■─────────■───────\n",
       "     └───┘┌─┴─┐     ┌─┴─┐└───┘┌─┴─┐     ┌─┴─┐     \n",
       "q_2: ─────┤ X ├──■──┤ X ├─────┤ X ├──■──┤ X ├─────\n",
       "     ┌───┐└───┘┌─┴─┐└───┘     └───┘┌─┴─┐└───┘┌───┐\n",
       "q_3: ┤ X ├──■──┤ X ├───────────────┤ X ├──■──┤ X ├\n",
       "     └─┬─┘┌─┴─┐└───┘               └───┘┌─┴─┐└─┬─┘\n",
       "q_4: ──■──┤ X ├─────────────────────────┤ X ├──■──\n",
       "          └───┘                         └───┘     </pre>"
      ],
      "text/plain": [
       "                                                  \n",
       "q_0: ──■───────────────────■──────────────────────\n",
       "     ┌─┴─┐               ┌─┴─┐                    \n",
       "q_1: ┤ X ├──■─────────■──┤ X ├──■─────────■───────\n",
       "     └───┘┌─┴─┐     ┌─┴─┐└───┘┌─┴─┐     ┌─┴─┐     \n",
       "q_2: ─────┤ X ├──■──┤ X ├─────┤ X ├──■──┤ X ├─────\n",
       "     ┌───┐└───┘┌─┴─┐└───┘     └───┘┌─┴─┐└───┘┌───┐\n",
       "q_3: ┤ X ├──■──┤ X ├───────────────┤ X ├──■──┤ X ├\n",
       "     └─┬─┘┌─┴─┐└───┘               └───┘┌─┴─┐└─┬─┘\n",
       "q_4: ──■──┤ X ├─────────────────────────┤ X ├──■──\n",
       "          └───┘                         └───┘     "
      ]
     },
     "execution_count": 12,
     "metadata": {},
     "output_type": "execute_result"
    }
   ],
   "source": [
    "qc_lf_output = rls.synth(qc_lf_input, num_searches=1000, num_mcts_searches=0, deterministic=False)\n",
    "qc_lf_output.draw(fold=-1)"
   ]
  },
  {
   "cell_type": "code",
   "execution_count": 13,
   "metadata": {},
   "outputs": [
    {
     "data": {
      "text/plain": [
       "np.True_"
      ]
     },
     "execution_count": 13,
     "metadata": {},
     "output_type": "execute_result"
    }
   ],
   "source": [
    "from qiskit.circuit.library.generalized_gates import LinearFunction\n",
    "LinearFunction(qc_lf_input) == LinearFunction(qc_lf_output)"
   ]
  },
  {
   "cell_type": "markdown",
   "id": "f52db456",
   "metadata": {},
   "source": [
    "# Clifford"
   ]
  },
  {
   "cell_type": "code",
   "execution_count": 14,
   "id": "2372b233",
   "metadata": {},
   "outputs": [
    {
     "name": "stderr",
     "output_type": "stream",
     "text": [
      "\u001b[32m2025-08-31 17:45:36.883\u001b[0m | \u001b[1mINFO    \u001b[0m | \u001b[36mtwisterl.rl.algorithm\u001b[0m:\u001b[36mlearn\u001b[0m:\u001b[36m152\u001b[0m - \u001b[1m(1/0) {'successes': {'ppo_deterministic': 0.1599999964237213, 'ppo_10': 0.7099999785423279}, 'rewards': {'ppo_deterministic': -0.2671875059604645, 'ppo_10': 0.5599609613418579}, 'difficulty': 1, 'success': 0.1599999964237213, 'reward': -0.2671875059604645} | {'to_rust': 0.005365313, 'eval_ppo_deterministic': 0.003425112, 'eval_ppo_10': 0.00944916, 'collect': 0.015008664, 'data_to_torch': 0.015463646, 'train': 0.030570878, 'total': 0.080090444}\u001b[0m\n",
      "\u001b[32m2025-08-31 17:45:36.888\u001b[0m | \u001b[1mINFO    \u001b[0m | \u001b[36mtwisterl.rl.algorithm\u001b[0m:\u001b[36mlearn\u001b[0m:\u001b[36m160\u001b[0m - \u001b[1m(1/0) Improved, saved checkpoint!\u001b[0m\n",
      "\u001b[32m2025-08-31 17:45:36.981\u001b[0m | \u001b[1mINFO    \u001b[0m | \u001b[36mtwisterl.rl.algorithm\u001b[0m:\u001b[36mlearn\u001b[0m:\u001b[36m152\u001b[0m - \u001b[1m(1/1) {'successes': {'ppo_deterministic': 0.07999999821186066, 'ppo_10': 0.7300000190734863}, 'rewards': {'ppo_deterministic': -0.38749998807907104, 'ppo_10': 0.590039074420929}, 'difficulty': 1, 'success': 0.07999999821186066, 'reward': -0.38749998807907104} | {'to_rust': 0.004831127, 'eval_ppo_deterministic': 0.004349479, 'eval_ppo_10': 0.010017517, 'collect': 0.015599493, 'data_to_torch': 0.017930819, 'train': 0.029067061, 'total': 0.082528871}\u001b[0m\n",
      "\u001b[32m2025-08-31 17:45:37.067\u001b[0m | \u001b[1mINFO    \u001b[0m | \u001b[36mtwisterl.rl.algorithm\u001b[0m:\u001b[36mlearn\u001b[0m:\u001b[36m152\u001b[0m - \u001b[1m(1/2) {'successes': {'ppo_deterministic': 0.18000000715255737, 'ppo_10': 0.8199999928474426}, 'rewards': {'ppo_deterministic': -0.23710937798023224, 'ppo_10': 0.725390613079071}, 'difficulty': 1, 'success': 0.18000000715255737, 'reward': -0.23710937798023224} | {'to_rust': 0.008388808, 'eval_ppo_deterministic': 0.003709665, 'eval_ppo_10': 0.01098989, 'collect': 0.017988341, 'data_to_torch': 0.013776595, 'train': 0.029637355, 'total': 0.085100013}\u001b[0m\n",
      "\u001b[32m2025-08-31 17:45:37.070\u001b[0m | \u001b[1mINFO    \u001b[0m | \u001b[36mtwisterl.rl.algorithm\u001b[0m:\u001b[36mlearn\u001b[0m:\u001b[36m160\u001b[0m - \u001b[1m(1/2) Improved, saved checkpoint!\u001b[0m\n",
      "\u001b[32m2025-08-31 17:45:37.148\u001b[0m | \u001b[1mINFO    \u001b[0m | \u001b[36mtwisterl.rl.algorithm\u001b[0m:\u001b[36mlearn\u001b[0m:\u001b[36m152\u001b[0m - \u001b[1m(1/3) {'successes': {'ppo_deterministic': 0.4000000059604645, 'ppo_10': 0.7900000214576721}, 'rewards': {'ppo_deterministic': 0.09375, 'ppo_10': 0.6802734136581421}, 'difficulty': 1, 'success': 0.4000000059604645, 'reward': 0.09375} | {'to_rust': 0.007784041, 'eval_ppo_deterministic': 0.003096089, 'eval_ppo_10': 0.010131965, 'collect': 0.014014685, 'data_to_torch': 0.013709694, 'train': 0.027739101, 'total': 0.07701803}\u001b[0m\n",
      "\u001b[32m2025-08-31 17:45:37.152\u001b[0m | \u001b[1mINFO    \u001b[0m | \u001b[36mtwisterl.rl.algorithm\u001b[0m:\u001b[36mlearn\u001b[0m:\u001b[36m160\u001b[0m - \u001b[1m(1/3) Improved, saved checkpoint!\u001b[0m\n",
      "\u001b[32m2025-08-31 17:45:37.233\u001b[0m | \u001b[1mINFO    \u001b[0m | \u001b[36mtwisterl.rl.algorithm\u001b[0m:\u001b[36mlearn\u001b[0m:\u001b[36m152\u001b[0m - \u001b[1m(1/4) {'successes': {'ppo_deterministic': 0.41999998688697815, 'ppo_10': 0.8199999928474426}, 'rewards': {'ppo_deterministic': 0.12382812798023224, 'ppo_10': 0.725390613079071}, 'difficulty': 1, 'success': 0.41999998688697815, 'reward': 0.12382812798023224} | {'to_rust': 0.00786421, 'eval_ppo_deterministic': 0.0045334, 'eval_ppo_10': 0.010020786, 'collect': 0.013860489, 'data_to_torch': 0.013100885, 'train': 0.030274132, 'total': 0.08016091}\u001b[0m\n",
      "\u001b[32m2025-08-31 17:45:37.236\u001b[0m | \u001b[1mINFO    \u001b[0m | \u001b[36mtwisterl.rl.algorithm\u001b[0m:\u001b[36mlearn\u001b[0m:\u001b[36m160\u001b[0m - \u001b[1m(1/4) Improved, saved checkpoint!\u001b[0m\n",
      "\u001b[32m2025-08-31 17:45:37.319\u001b[0m | \u001b[1mINFO    \u001b[0m | \u001b[36mtwisterl.rl.algorithm\u001b[0m:\u001b[36mlearn\u001b[0m:\u001b[36m152\u001b[0m - \u001b[1m(1/5) {'successes': {'ppo_deterministic': 0.6299999952316284, 'ppo_10': 0.8100000023841858}, 'rewards': {'ppo_deterministic': 0.43964844942092896, 'ppo_10': 0.7103515863418579}, 'difficulty': 1, 'success': 0.6299999952316284, 'reward': 0.43964844942092896} | {'to_rust': 0.007725717, 'eval_ppo_deterministic': 0.004786976, 'eval_ppo_10': 0.009540675, 'collect': 0.014744373, 'data_to_torch': 0.013241922, 'train': 0.031310392, 'total': 0.08209534}\u001b[0m\n",
      "\u001b[32m2025-08-31 17:45:37.323\u001b[0m | \u001b[1mINFO    \u001b[0m | \u001b[36mtwisterl.rl.algorithm\u001b[0m:\u001b[36mlearn\u001b[0m:\u001b[36m160\u001b[0m - \u001b[1m(1/5) Improved, saved checkpoint!\u001b[0m\n",
      "\u001b[32m2025-08-31 17:45:37.406\u001b[0m | \u001b[1mINFO    \u001b[0m | \u001b[36mtwisterl.rl.algorithm\u001b[0m:\u001b[36mlearn\u001b[0m:\u001b[36m152\u001b[0m - \u001b[1m(1/6) {'successes': {'ppo_deterministic': 0.5899999737739563, 'ppo_10': 0.8899999856948853}, 'rewards': {'ppo_deterministic': 0.3794921934604645, 'ppo_10': 0.8306640386581421}, 'difficulty': 1, 'success': 0.5899999737739563, 'reward': 0.3794921934604645} | {'to_rust': 0.008799471, 'eval_ppo_deterministic': 0.004277029, 'eval_ppo_10': 0.009257346, 'collect': 0.015531533, 'data_to_torch': 0.014484295, 'train': 0.029103884, 'total': 0.082277764}\u001b[0m\n",
      "\u001b[32m2025-08-31 17:45:37.487\u001b[0m | \u001b[1mINFO    \u001b[0m | \u001b[36mtwisterl.rl.algorithm\u001b[0m:\u001b[36mlearn\u001b[0m:\u001b[36m152\u001b[0m - \u001b[1m(1/7) {'successes': {'ppo_deterministic': 0.44999998807907104, 'ppo_10': 0.949999988079071}, 'rewards': {'ppo_deterministic': 0.1689453125, 'ppo_10': 0.9208984375}, 'difficulty': 1, 'success': 0.44999998807907104, 'reward': 0.1689453125} | {'to_rust': 0.007749635, 'eval_ppo_deterministic': 0.004431035, 'eval_ppo_10': 0.011306471, 'collect': 0.014159445, 'data_to_torch': 0.012877872, 'train': 0.028271708, 'total': 0.079380006}\u001b[0m\n",
      "\u001b[32m2025-08-31 17:45:37.563\u001b[0m | \u001b[1mINFO    \u001b[0m | \u001b[36mtwisterl.rl.algorithm\u001b[0m:\u001b[36mlearn\u001b[0m:\u001b[36m152\u001b[0m - \u001b[1m(1/8) {'successes': {'ppo_deterministic': 0.8100000023841858, 'ppo_10': 0.9700000286102295}, 'rewards': {'ppo_deterministic': 0.7103515863418579, 'ppo_10': 0.950976550579071}, 'difficulty': 1, 'success': 0.8100000023841858, 'reward': 0.7103515863418579} | {'to_rust': 0.007576694, 'eval_ppo_deterministic': 0.003104492, 'eval_ppo_10': 0.008905996, 'collect': 0.014027474, 'data_to_torch': 0.01293348, 'train': 0.027745844, 'total': 0.074749239}\u001b[0m\n",
      "\u001b[32m2025-08-31 17:45:37.566\u001b[0m | \u001b[1mINFO    \u001b[0m | \u001b[36mtwisterl.rl.algorithm\u001b[0m:\u001b[36mlearn\u001b[0m:\u001b[36m160\u001b[0m - \u001b[1m(1/8) Improved, saved checkpoint!\u001b[0m\n",
      "\u001b[32m2025-08-31 17:45:37.648\u001b[0m | \u001b[1mINFO    \u001b[0m | \u001b[36mtwisterl.rl.algorithm\u001b[0m:\u001b[36mlearn\u001b[0m:\u001b[36m152\u001b[0m - \u001b[1m(1/9) {'successes': {'ppo_deterministic': 0.8299999833106995, 'ppo_10': 0.949999988079071}, 'rewards': {'ppo_deterministic': 0.740429699420929, 'ppo_10': 0.9208984375}, 'difficulty': 1, 'success': 0.8299999833106995, 'reward': 0.740429699420929} | {'to_rust': 0.007664415, 'eval_ppo_deterministic': 0.004761914, 'eval_ppo_10': 0.009684677, 'collect': 0.014542361, 'data_to_torch': 0.013259345, 'train': 0.031104038, 'total': 0.08153597}\u001b[0m\n",
      "\u001b[32m2025-08-31 17:45:37.651\u001b[0m | \u001b[1mINFO    \u001b[0m | \u001b[36mtwisterl.rl.algorithm\u001b[0m:\u001b[36mlearn\u001b[0m:\u001b[36m160\u001b[0m - \u001b[1m(1/9) Improved, saved checkpoint!\u001b[0m\n"
     ]
    }
   ],
   "source": [
    "# Here we want to do Clifford synthesis but we only allow H and S to be placed on qubit 0\n",
    "env = CliffordGym(\n",
    "    num_qubits=3, \n",
    "    gateset=[\n",
    "        (\"CX\", [0,1]),\n",
    "        (\"CX\", [1,0]),\n",
    "        (\"CX\", [1,2]),\n",
    "        (\"CX\", [2,1]),\n",
    "        (\"SWAP\", [0,1]),\n",
    "        (\"SWAP\", [1,2]),\n",
    "        (\"H\", [0]),\n",
    "        (\"S\", [0]),\n",
    "    ]\n",
    ")\n",
    "rls = RLSynthesis(env, PPOConfig(), BasicPolicyConfig())\n",
    "rls.learn(num_iterations=10, tb_path=\"runs/clifford_3q_custom/\")"
   ]
  },
  {
   "cell_type": "code",
   "execution_count": 15,
   "id": "e7277982",
   "metadata": {},
   "outputs": [],
   "source": [
    "#rls.save(\"models/clifford_3q_custom.json\", \"models/clifford_3q_custom.pt\")\n",
    "\n",
    "rls = RLSynthesis.from_config_json(\"models/clifford_3q_custom.json\", \"models/clifford_3q_custom.pt\")"
   ]
  },
  {
   "cell_type": "code",
   "execution_count": 16,
   "id": "e11ec37a",
   "metadata": {},
   "outputs": [],
   "source": [
    "from qiskit.quantum_info import random_clifford, Clifford"
   ]
  },
  {
   "cell_type": "code",
   "execution_count": 17,
   "id": "5be6f5b0",
   "metadata": {},
   "outputs": [
    {
     "data": {
      "text/html": [
       "<pre style=\"word-wrap: normal;white-space: pre;background: #fff0;line-height: 1.1;font-family: &quot;Courier New&quot;,Courier,monospace\">           ┌───┐      \n",
       "q_0: ────X─┤ H ├─X────\n",
       "         │ └───┘ │    \n",
       "q_1: ─X──X───────X──X─\n",
       "      │             │ \n",
       "q_2: ─X─────────────X─\n",
       "                      </pre>"
      ],
      "text/plain": [
       "           ┌───┐      \n",
       "q_0: ────X─┤ H ├─X────\n",
       "         │ └───┘ │    \n",
       "q_1: ─X──X───────X──X─\n",
       "      │             │ \n",
       "q_2: ─X─────────────X─\n",
       "                      "
      ]
     },
     "execution_count": 17,
     "metadata": {},
     "output_type": "execute_result"
    }
   ],
   "source": [
    "qc_clifford_in = QuantumCircuit(3)\n",
    "qc_clifford_in.h(2)\n",
    "\n",
    "qc_clifford_out = rls.synth(qc_clifford_in, num_searches=1000, num_mcts_searches=0, deterministic=False)\n",
    "qc_clifford_out.draw(fold=-1)"
   ]
  },
  {
   "cell_type": "code",
   "execution_count": 18,
   "id": "1b815df8",
   "metadata": {},
   "outputs": [
    {
     "data": {
      "text/html": [
       "<pre style=\"word-wrap: normal;white-space: pre;background: #fff0;line-height: 1.1;font-family: &quot;Courier New&quot;,Courier,monospace\">        ┌───┐   ┌───┐     ┌───┐   ┌───┐     ┌───┐┌───┐┌───┐\n",
       "q_0: ───┤ X ├─X─┤ H ├──■──┤ S ├─X─┤ H ├──■──┤ S ├┤ X ├┤ H ├\n",
       "        └─┬─┘ │ └───┘┌─┴─┐└───┘ │ └───┘┌─┴─┐└───┘└─┬─┘└───┘\n",
       "q_1: ─X───■───X──────┤ X ├──X───X──────┤ X ├──X────■───────\n",
       "      │              └───┘  │          └───┘  │            \n",
       "q_2: ─X─────────────────────X─────────────────X────────────\n",
       "                                                           </pre>"
      ],
      "text/plain": [
       "        ┌───┐   ┌───┐     ┌───┐   ┌───┐     ┌───┐┌───┐┌───┐\n",
       "q_0: ───┤ X ├─X─┤ H ├──■──┤ S ├─X─┤ H ├──■──┤ S ├┤ X ├┤ H ├\n",
       "        └─┬─┘ │ └───┘┌─┴─┐└───┘ │ └───┘┌─┴─┐└───┘└─┬─┘└───┘\n",
       "q_1: ─X───■───X──────┤ X ├──X───X──────┤ X ├──X────■───────\n",
       "      │              └───┘  │          └───┘  │            \n",
       "q_2: ─X─────────────────────X─────────────────X────────────\n",
       "                                                           "
      ]
     },
     "execution_count": 18,
     "metadata": {},
     "output_type": "execute_result"
    }
   ],
   "source": [
    "some_clifford = random_clifford(3, seed=42)\n",
    "qc_rand_clifford_out = rls.synth(some_clifford, num_searches=1000, num_mcts_searches=0, deterministic=False)\n",
    "qc_rand_clifford_out.draw(fold=-1)"
   ]
  },
  {
   "cell_type": "code",
   "execution_count": 19,
   "id": "bed519ab",
   "metadata": {},
   "outputs": [
    {
     "data": {
      "text/plain": [
       "True"
      ]
     },
     "execution_count": 19,
     "metadata": {},
     "output_type": "execute_result"
    }
   ],
   "source": [
    "# Equivalent up to phase\n",
    "np.array_equal(some_clifford.tableau[:,:-1], Clifford(qc_rand_clifford_out).tableau[:,:-1])"
   ]
  }
 ],
 "metadata": {
  "kernelspec": {
   "display_name": ".venv",
   "language": "python",
   "name": "python3"
  },
  "language_info": {
   "codemirror_mode": {
    "name": "ipython",
    "version": 3
   },
   "file_extension": ".py",
   "mimetype": "text/x-python",
   "name": "python",
   "nbconvert_exporter": "python",
   "pygments_lexer": "ipython3",
   "version": "3.11.13"
  }
 },
 "nbformat": 4,
 "nbformat_minor": 5
}
