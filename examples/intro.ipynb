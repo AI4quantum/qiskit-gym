{
 "cells": [
  {
   "cell_type": "code",
   "execution_count": 1,
   "id": "70940e2e",
   "metadata": {},
   "outputs": [],
   "source": [
    "from qiskit_gym.envs import LinearFunctionGym, CliffordGym, PermutationGym\n",
    "from qiskit_gym.rl import RLSynthesis, PPOConfig, AlphaZeroConfig, BasicPolicyConfig"
   ]
  },
  {
   "cell_type": "code",
   "execution_count": 2,
   "id": "0ac4d115",
   "metadata": {},
   "outputs": [],
   "source": [
    "from qiskit import QuantumCircuit\n",
    "from qiskit.transpiler import CouplingMap\n",
    "import numpy as np"
   ]
  },
  {
   "cell_type": "markdown",
   "id": "5e651581",
   "metadata": {},
   "source": [
    "# Gym-style RL Environments for Quantum"
   ]
  },
  {
   "cell_type": "code",
   "execution_count": 3,
   "id": "89a2bc43",
   "metadata": {},
   "outputs": [
    {
     "data": {
      "text/plain": [
       "[('CX', (0, 1)),\n",
       " ('CX', (1, 0)),\n",
       " ('CX', (1, 2)),\n",
       " ('CX', (2, 1)),\n",
       " ('SWAP', (0, 1)),\n",
       " ('SWAP', (1, 0)),\n",
       " ('SWAP', (1, 2)),\n",
       " ('SWAP', (2, 1))]"
      ]
     },
     "execution_count": 3,
     "metadata": {},
     "output_type": "execute_result"
    }
   ],
   "source": [
    "cmap_3_line = CouplingMap.from_line(3, bidirectional=True)\n",
    "env = LinearFunctionGym.from_coupling_map(cmap_3_line)\n",
    "env.config[\"gateset\"]"
   ]
  },
  {
   "cell_type": "code",
   "execution_count": 4,
   "id": "03555717",
   "metadata": {},
   "outputs": [
    {
     "data": {
      "text/plain": [
       "(array([[1, 1, 0],\n",
       "        [0, 1, 0],\n",
       "        [0, 0, 1]], dtype=int8),\n",
       " {})"
      ]
     },
     "execution_count": 4,
     "metadata": {},
     "output_type": "execute_result"
    }
   ],
   "source": [
    "env.difficulty = 1  # We can set env difficulty\n",
    "env.reset()  # This resets the env and returns first observation"
   ]
  },
  {
   "cell_type": "code",
   "execution_count": 5,
   "id": "dadae4d6",
   "metadata": {},
   "outputs": [
    {
     "data": {
      "text/html": [
       "<pre style=\"word-wrap: normal;white-space: pre;background: #fff0;line-height: 1.1;font-family: &quot;Courier New&quot;,Courier,monospace\">          \n",
       "q_0: ──■──\n",
       "       │  \n",
       "q_1: ──┼──\n",
       "     ┌─┴─┐\n",
       "q_2: ┤ X ├\n",
       "     └───┘</pre>"
      ],
      "text/plain": [
       "          \n",
       "q_0: ──■──\n",
       "       │  \n",
       "q_1: ──┼──\n",
       "     ┌─┴─┐\n",
       "q_2: ┤ X ├\n",
       "     └───┘"
      ]
     },
     "execution_count": 5,
     "metadata": {},
     "output_type": "execute_result"
    }
   ],
   "source": [
    "qc = QuantumCircuit(3)\n",
    "qc.cx(0,2)\n",
    "qc.draw()"
   ]
  },
  {
   "cell_type": "code",
   "execution_count": 6,
   "id": "4d09cdbd",
   "metadata": {},
   "outputs": [],
   "source": [
    "# You can set a custom state like this (in this case from a circuit)\n",
    "env.set_state(env.get_state(qc))"
   ]
  },
  {
   "cell_type": "code",
   "execution_count": 7,
   "id": "4797079d",
   "metadata": {},
   "outputs": [
    {
     "name": "stdout",
     "output_type": "stream",
     "text": [
      "[[1 0 0]\n",
      " [0 1 0]\n",
      " [1 0 1]]\n"
     ]
    }
   ],
   "source": [
    "env.render()  # This displays the current state"
   ]
  },
  {
   "cell_type": "code",
   "execution_count": 8,
   "id": "e1c97995",
   "metadata": {},
   "outputs": [
    {
     "data": {
      "text/plain": [
       "Discrete(8)"
      ]
     },
     "execution_count": 8,
     "metadata": {},
     "output_type": "execute_result"
    }
   ],
   "source": [
    "env.action_space  # This tells you the number of possible actions (a discrete space of 8 actions)"
   ]
  },
  {
   "cell_type": "code",
   "execution_count": 9,
   "id": "741b7174",
   "metadata": {},
   "outputs": [
    {
     "data": {
      "text/plain": [
       "MultiBinary((3, 3))"
      ]
     },
     "execution_count": 9,
     "metadata": {},
     "output_type": "execute_result"
    }
   ],
   "source": [
    "env.observation_space  # This tells you the type and size of observation space (N by N discrete in this case)"
   ]
  },
  {
   "cell_type": "code",
   "execution_count": 10,
   "id": "a3a69516",
   "metadata": {},
   "outputs": [
    {
     "data": {
      "text/plain": [
       "(array([[1, 0, 0],\n",
       "        [0, 1, 0],\n",
       "        [1, 1, 1]], dtype=int8),\n",
       " -0.00390625,\n",
       " False)"
      ]
     },
     "execution_count": 10,
     "metadata": {},
     "output_type": "execute_result"
    }
   ],
   "source": [
    "# You can advance the env by providing an action\n",
    "obs, reward, is_final, _, _ = env.step(2)\n",
    "\n",
    "# This provides:\n",
    "# - The observation of the state right after action\n",
    "# - The reward for that step\n",
    "# - If we are in a final state\n",
    "\n",
    "obs, reward, is_final"
   ]
  },
  {
   "cell_type": "code",
   "execution_count": 11,
   "id": "65bfb809",
   "metadata": {},
   "outputs": [
    {
     "name": "stdout",
     "output_type": "stream",
     "text": [
      "[[1 0 0]\n",
      " [0 1 0]\n",
      " [1 0 1]]\n",
      "[4] - ('SWAP', (0, 1))\n",
      "[4] - Reward: -0.00390625, Is final: False\n",
      "[[0 1 0]\n",
      " [1 0 0]\n",
      " [1 0 1]]\n",
      "[2] - ('CX', (1, 2))\n",
      "[2] - Reward: -0.00390625, Is final: False\n",
      "[[0 1 0]\n",
      " [1 0 0]\n",
      " [0 0 1]]\n",
      "[4] - ('SWAP', (0, 1))\n",
      "[4] - Reward: 1.0, Is final: True\n",
      "[[1 0 0]\n",
      " [0 1 0]\n",
      " [0 0 1]]\n"
     ]
    }
   ],
   "source": [
    "# One way to do it\n",
    "env.set_state(env.get_state(qc))\n",
    "env.render()\n",
    "for a in [4,2,4]:\n",
    "    print(f\"[{a}] - {env.config['gateset'][a]}\")\n",
    "    obs, reward, is_final, _, _ = env.step(a)\n",
    "    print(f\"[{a}] - Reward: {reward}, Is final: {is_final}\")\n",
    "    env.render()"
   ]
  },
  {
   "cell_type": "code",
   "execution_count": 12,
   "id": "9d65352c",
   "metadata": {},
   "outputs": [
    {
     "name": "stdout",
     "output_type": "stream",
     "text": [
      "[[1 0 0]\n",
      " [0 1 0]\n",
      " [1 0 1]]\n",
      "[0] - ('CX', (0, 1))\n",
      "[0] - Reward: -0.00390625, Is final: False\n",
      "[[1 0 0]\n",
      " [1 1 0]\n",
      " [1 0 1]]\n",
      "[2] - ('CX', (1, 2))\n",
      "[2] - Reward: -0.00390625, Is final: False\n",
      "[[1 0 0]\n",
      " [1 1 0]\n",
      " [0 1 1]]\n",
      "[0] - ('CX', (0, 1))\n",
      "[0] - Reward: -0.00390625, Is final: False\n",
      "[[1 0 0]\n",
      " [0 1 0]\n",
      " [0 1 1]]\n",
      "[2] - ('CX', (1, 2))\n",
      "[2] - Reward: 1.0, Is final: True\n",
      "[[1 0 0]\n",
      " [0 1 0]\n",
      " [0 0 1]]\n"
     ]
    }
   ],
   "source": [
    "# Another way to do it\n",
    "\n",
    "env.set_state(env.get_state(qc))\n",
    "env.render()\n",
    "for a in [0,2,0,2]:\n",
    "    print(f\"[{a}] - {env.config['gateset'][a]}\")\n",
    "    obs, reward, is_final, _, _ = env.step(a)\n",
    "    print(f\"[{a}] - Reward: {reward}, Is final: {is_final}\")\n",
    "    env.render()"
   ]
  },
  {
   "cell_type": "markdown",
   "id": "017bcfa5",
   "metadata": {},
   "source": [
    "# Training with TwisteRL"
   ]
  },
  {
   "cell_type": "markdown",
   "id": "b3df77fb",
   "metadata": {},
   "source": [
    "## Permutation"
   ]
  },
  {
   "cell_type": "markdown",
   "id": "1a8d8a78",
   "metadata": {},
   "source": [
    "### Setup env"
   ]
  },
  {
   "cell_type": "code",
   "execution_count": 13,
   "id": "75e1c236",
   "metadata": {},
   "outputs": [
    {
     "data": {
      "text/plain": [
       "[('SWAP', (0, 1)),\n",
       " ('SWAP', (0, 3)),\n",
       " ('SWAP', (1, 2)),\n",
       " ('SWAP', (1, 4)),\n",
       " ('SWAP', (2, 5)),\n",
       " ('SWAP', (3, 4)),\n",
       " ('SWAP', (3, 6)),\n",
       " ('SWAP', (4, 5)),\n",
       " ('SWAP', (4, 7)),\n",
       " ('SWAP', (5, 8)),\n",
       " ('SWAP', (6, 7)),\n",
       " ('SWAP', (7, 8))]"
      ]
     },
     "execution_count": 13,
     "metadata": {},
     "output_type": "execute_result"
    }
   ],
   "source": [
    "cmap_3x3 = CouplingMap.from_grid(3,3, bidirectional=False)\n",
    "env = PermutationGym.from_coupling_map(cmap_3x3)\n",
    "rls = RLSynthesis(env, PPOConfig(), BasicPolicyConfig())\n",
    "\n",
    "rls.env.config[\"gateset\"]"
   ]
  },
  {
   "cell_type": "markdown",
   "id": "31880450",
   "metadata": {},
   "source": [
    "### Train the model"
   ]
  },
  {
   "cell_type": "code",
   "execution_count": 14,
   "id": "d9dfa2a5",
   "metadata": {},
   "outputs": [
    {
     "name": "stderr",
     "output_type": "stream",
     "text": [
      "\u001b[32m2025-09-01 19:19:53.852\u001b[0m | \u001b[1mINFO    \u001b[0m | \u001b[36mtwisterl.rl.algorithm\u001b[0m:\u001b[36mlearn\u001b[0m:\u001b[36m152\u001b[0m - \u001b[1m(1/0) {'successes': {'ppo_deterministic': 0.10000000149011612, 'ppo_10': 0.550000011920929}, 'rewards': {'ppo_deterministic': -0.357421875, 'ppo_10': 0.3193359375}, 'difficulty': 1, 'success': 0.10000000149011612, 'reward': -0.357421875} | {'to_rust': 0.008677438, 'eval_ppo_deterministic': 0.004478501, 'eval_ppo_10': 0.009866546, 'collect': 0.014593092, 'data_to_torch': 0.357087315, 'train': 0.354479625, 'total': 0.749832335}\u001b[0m\n",
      "\u001b[32m2025-09-01 19:19:54.096\u001b[0m | \u001b[1mINFO    \u001b[0m | \u001b[36mtwisterl.rl.algorithm\u001b[0m:\u001b[36mlearn\u001b[0m:\u001b[36m152\u001b[0m - \u001b[1m(1/1) {'successes': {'ppo_deterministic': 0.0, 'ppo_10': 0.550000011920929}, 'rewards': {'ppo_deterministic': -0.5078125, 'ppo_10': 0.3193359375}, 'difficulty': 1, 'success': 0.0, 'reward': -0.5078125} | {'to_rust': 0.00730489, 'eval_ppo_deterministic': 0.004515282, 'eval_ppo_10': 0.010901196, 'collect': 0.016545905, 'data_to_torch': 0.013622032, 'train': 0.030222388, 'total': 0.083898118}\u001b[0m\n",
      "\u001b[32m2025-09-01 19:19:54.179\u001b[0m | \u001b[1mINFO    \u001b[0m | \u001b[36mtwisterl.rl.algorithm\u001b[0m:\u001b[36mlearn\u001b[0m:\u001b[36m152\u001b[0m - \u001b[1m(1/2) {'successes': {'ppo_deterministic': 0.20999999344348907, 'ppo_10': 0.6299999952316284}, 'rewards': {'ppo_deterministic': -0.19199219346046448, 'ppo_10': 0.43964844942092896}, 'difficulty': 1, 'success': 0.20999999344348907, 'reward': -0.19199219346046448} | {'to_rust': 0.009971278, 'eval_ppo_deterministic': 0.004538266, 'eval_ppo_10': 0.010195684, 'collect': 0.015364821, 'data_to_torch': 0.015090162, 'train': 0.024641993, 'total': 0.080557308}\u001b[0m\n",
      "\u001b[32m2025-09-01 19:19:54.182\u001b[0m | \u001b[1mINFO    \u001b[0m | \u001b[36mtwisterl.rl.algorithm\u001b[0m:\u001b[36mlearn\u001b[0m:\u001b[36m160\u001b[0m - \u001b[1m(1/2) Improved, saved checkpoint!\u001b[0m\n",
      "\u001b[32m2025-09-01 19:19:54.263\u001b[0m | \u001b[1mINFO    \u001b[0m | \u001b[36mtwisterl.rl.algorithm\u001b[0m:\u001b[36mlearn\u001b[0m:\u001b[36m152\u001b[0m - \u001b[1m(1/3) {'successes': {'ppo_deterministic': 0.30000001192092896, 'ppo_10': 0.6100000143051147}, 'rewards': {'ppo_deterministic': -0.056640625, 'ppo_10': 0.4095703065395355}, 'difficulty': 1, 'success': 0.30000001192092896, 'reward': -0.056640625} | {'to_rust': 0.009080442, 'eval_ppo_deterministic': 0.003193678, 'eval_ppo_10': 0.010003133, 'collect': 0.015694842, 'data_to_torch': 0.016408253, 'train': 0.024620615, 'total': 0.079425924}\u001b[0m\n",
      "\u001b[32m2025-09-01 19:19:54.266\u001b[0m | \u001b[1mINFO    \u001b[0m | \u001b[36mtwisterl.rl.algorithm\u001b[0m:\u001b[36mlearn\u001b[0m:\u001b[36m160\u001b[0m - \u001b[1m(1/3) Improved, saved checkpoint!\u001b[0m\n",
      "\u001b[32m2025-09-01 19:19:54.350\u001b[0m | \u001b[1mINFO    \u001b[0m | \u001b[36mtwisterl.rl.algorithm\u001b[0m:\u001b[36mlearn\u001b[0m:\u001b[36m152\u001b[0m - \u001b[1m(1/4) {'successes': {'ppo_deterministic': 0.1599999964237213, 'ppo_10': 0.6299999952316284}, 'rewards': {'ppo_deterministic': -0.2671875059604645, 'ppo_10': 0.43964844942092896}, 'difficulty': 1, 'success': 0.1599999964237213, 'reward': -0.2671875059604645} | {'to_rust': 0.009010981, 'eval_ppo_deterministic': 0.004630104, 'eval_ppo_10': 0.010621424, 'collect': 0.01634806, 'data_to_torch': 0.016487203, 'train': 0.025086765, 'total': 0.082661072}\u001b[0m\n",
      "\u001b[32m2025-09-01 19:19:54.427\u001b[0m | \u001b[1mINFO    \u001b[0m | \u001b[36mtwisterl.rl.algorithm\u001b[0m:\u001b[36mlearn\u001b[0m:\u001b[36m152\u001b[0m - \u001b[1m(1/5) {'successes': {'ppo_deterministic': 0.27000001072883606, 'ppo_10': 0.6800000071525574}, 'rewards': {'ppo_deterministic': -0.10175780951976776, 'ppo_10': 0.514843761920929}, 'difficulty': 1, 'success': 0.27000001072883606, 'reward': -0.10175780951976776} | {'to_rust': 0.008854822, 'eval_ppo_deterministic': 0.003560329, 'eval_ppo_10': 0.009510493, 'collect': 0.014939879, 'data_to_torch': 0.014819026, 'train': 0.024582008, 'total': 0.076699094}\u001b[0m\n",
      "\u001b[32m2025-09-01 19:19:54.505\u001b[0m | \u001b[1mINFO    \u001b[0m | \u001b[36mtwisterl.rl.algorithm\u001b[0m:\u001b[36mlearn\u001b[0m:\u001b[36m152\u001b[0m - \u001b[1m(1/6) {'successes': {'ppo_deterministic': 0.2199999988079071, 'ppo_10': 0.6399999856948853}, 'rewards': {'ppo_deterministic': -0.17695312201976776, 'ppo_10': 0.4546875059604645}, 'difficulty': 1, 'success': 0.2199999988079071, 'reward': -0.17695312201976776} | {'to_rust': 0.008529645, 'eval_ppo_deterministic': 0.003230251, 'eval_ppo_10': 0.010194836, 'collect': 0.015541508, 'data_to_torch': 0.014514167, 'train': 0.024603316, 'total': 0.077059789}\u001b[0m\n",
      "\u001b[32m2025-09-01 19:19:54.586\u001b[0m | \u001b[1mINFO    \u001b[0m | \u001b[36mtwisterl.rl.algorithm\u001b[0m:\u001b[36mlearn\u001b[0m:\u001b[36m152\u001b[0m - \u001b[1m(1/7) {'successes': {'ppo_deterministic': 0.17000000178813934, 'ppo_10': 0.6100000143051147}, 'rewards': {'ppo_deterministic': -0.25214844942092896, 'ppo_10': 0.4095703065395355}, 'difficulty': 1, 'success': 0.17000000178813934, 'reward': -0.25214844942092896} | {'to_rust': 0.009077276, 'eval_ppo_deterministic': 0.003501587, 'eval_ppo_10': 0.012159208, 'collect': 0.014353855, 'data_to_torch': 0.013682612, 'train': 0.025883059, 'total': 0.079094291}\u001b[0m\n",
      "\u001b[32m2025-09-01 19:19:54.669\u001b[0m | \u001b[1mINFO    \u001b[0m | \u001b[36mtwisterl.rl.algorithm\u001b[0m:\u001b[36mlearn\u001b[0m:\u001b[36m152\u001b[0m - \u001b[1m(1/8) {'successes': {'ppo_deterministic': 0.4300000071525574, 'ppo_10': 0.7099999785423279}, 'rewards': {'ppo_deterministic': 0.13886718451976776, 'ppo_10': 0.5599609613418579}, 'difficulty': 1, 'success': 0.4300000071525574, 'reward': 0.13886718451976776} | {'to_rust': 0.009165374, 'eval_ppo_deterministic': 0.004164966, 'eval_ppo_10': 0.010216617, 'collect': 0.019263535, 'data_to_torch': 0.014179873, 'train': 0.024416631, 'total': 0.081866611}\u001b[0m\n",
      "\u001b[32m2025-09-01 19:19:54.672\u001b[0m | \u001b[1mINFO    \u001b[0m | \u001b[36mtwisterl.rl.algorithm\u001b[0m:\u001b[36mlearn\u001b[0m:\u001b[36m160\u001b[0m - \u001b[1m(1/8) Improved, saved checkpoint!\u001b[0m\n",
      "\u001b[32m2025-09-01 19:19:54.751\u001b[0m | \u001b[1mINFO    \u001b[0m | \u001b[36mtwisterl.rl.algorithm\u001b[0m:\u001b[36mlearn\u001b[0m:\u001b[36m152\u001b[0m - \u001b[1m(1/9) {'successes': {'ppo_deterministic': 0.4099999964237213, 'ppo_10': 0.75}, 'rewards': {'ppo_deterministic': 0.10878906399011612, 'ppo_10': 0.6201171875}, 'difficulty': 1, 'success': 0.4099999964237213, 'reward': 0.10878906399011612} | {'to_rust': 0.009457681, 'eval_ppo_deterministic': 0.004098583, 'eval_ppo_10': 0.009788243, 'collect': 0.015088873, 'data_to_torch': 0.013851579, 'train': 0.025341295, 'total': 0.078090766}\u001b[0m\n"
     ]
    }
   ],
   "source": [
    "rls.learn(num_iterations=10, tb_path=\"runs/perm_square_3x3/\")"
   ]
  },
  {
   "cell_type": "markdown",
   "id": "ad0a86cc",
   "metadata": {},
   "source": [
    "### Save (or load) config and model"
   ]
  },
  {
   "cell_type": "code",
   "execution_count": 15,
   "id": "cc03ff1f",
   "metadata": {},
   "outputs": [],
   "source": [
    "#rls.save(\"models/perm_square_3x3.json\", \"models/perm_square_3x3.pt\")\n",
    "\n",
    "rls = RLSynthesis.from_config_json(\"models/perm_square_3x3.json\", \"models/perm_square_3x3.pt\")"
   ]
  },
  {
   "cell_type": "markdown",
   "id": "19a26ffa",
   "metadata": {},
   "source": [
    "### Try it"
   ]
  },
  {
   "cell_type": "code",
   "execution_count": 16,
   "id": "22bcfd3c",
   "metadata": {},
   "outputs": [
    {
     "data": {
      "text/html": [
       "<pre style=\"word-wrap: normal;white-space: pre;background: #fff0;line-height: 1.1;font-family: &quot;Courier New&quot;,Courier,monospace\">                    \n",
       "q_0: ───────────────\n",
       "                    \n",
       "q_1: ───────X───────\n",
       "            │       \n",
       "q_2: ───────┼───────\n",
       "            │       \n",
       "q_3: ───────┼──X────\n",
       "            │  │    \n",
       "q_4: ────X──X──┼──X─\n",
       "         │     │  │ \n",
       "q_5: ────┼─────┼──X─\n",
       "         │     │    \n",
       "q_6: ────┼──X──X────\n",
       "         │  │       \n",
       "q_7: ─X──X──X───────\n",
       "      │             \n",
       "q_8: ─X─────────────\n",
       "                    </pre>"
      ],
      "text/plain": [
       "                    \n",
       "q_0: ───────────────\n",
       "                    \n",
       "q_1: ───────X───────\n",
       "            │       \n",
       "q_2: ───────┼───────\n",
       "            │       \n",
       "q_3: ───────┼──X────\n",
       "            │  │    \n",
       "q_4: ────X──X──┼──X─\n",
       "         │     │  │ \n",
       "q_5: ────┼─────┼──X─\n",
       "         │     │    \n",
       "q_6: ────┼──X──X────\n",
       "         │  │       \n",
       "q_7: ─X──X──X───────\n",
       "      │             \n",
       "q_8: ─X─────────────\n",
       "                    "
      ]
     },
     "execution_count": 16,
     "metadata": {},
     "output_type": "execute_result"
    }
   ],
   "source": [
    "some_perm = np.random.permutation(9)\n",
    "\n",
    "qc_perm = rls.synth(some_perm, num_searches=1000, num_mcts_searches=0, deterministic=False)\n",
    "qc_perm.draw(fold=-1)"
   ]
  },
  {
   "cell_type": "code",
   "execution_count": 17,
   "id": "6459e837",
   "metadata": {},
   "outputs": [
    {
     "data": {
      "text/html": [
       "<pre style=\"word-wrap: normal;white-space: pre;background: #fff0;line-height: 1.1;font-family: &quot;Courier New&quot;,Courier,monospace\">        \n",
       "q_0: ─X─\n",
       "      │ \n",
       "q_1: ─┼─\n",
       "      │ \n",
       "q_2: ─┼─\n",
       "      │ \n",
       "q_3: ─┼─\n",
       "      │ \n",
       "q_4: ─┼─\n",
       "      │ \n",
       "q_5: ─┼─\n",
       "      │ \n",
       "q_6: ─┼─\n",
       "      │ \n",
       "q_7: ─┼─\n",
       "      │ \n",
       "q_8: ─X─\n",
       "        </pre>"
      ],
      "text/plain": [
       "        \n",
       "q_0: ─X─\n",
       "      │ \n",
       "q_1: ─┼─\n",
       "      │ \n",
       "q_2: ─┼─\n",
       "      │ \n",
       "q_3: ─┼─\n",
       "      │ \n",
       "q_4: ─┼─\n",
       "      │ \n",
       "q_5: ─┼─\n",
       "      │ \n",
       "q_6: ─┼─\n",
       "      │ \n",
       "q_7: ─┼─\n",
       "      │ \n",
       "q_8: ─X─\n",
       "        "
      ]
     },
     "execution_count": 17,
     "metadata": {},
     "output_type": "execute_result"
    }
   ],
   "source": [
    "qc_perm_input = QuantumCircuit(9)\n",
    "qc_perm_input.swap(0,8)\n",
    "qc_perm_input.draw(fold=-1)"
   ]
  },
  {
   "cell_type": "code",
   "execution_count": 18,
   "id": "feb1666f",
   "metadata": {},
   "outputs": [
    {
     "data": {
      "text/html": [
       "<pre style=\"word-wrap: normal;white-space: pre;background: #fff0;line-height: 1.1;font-family: &quot;Courier New&quot;,Courier,monospace\">                    \n",
       "q_0: ─X────────X────\n",
       "      │        │    \n",
       "q_1: ─X─────X──X────\n",
       "            │       \n",
       "q_2: ───────┼───────\n",
       "            │       \n",
       "q_3: ───────┼───────\n",
       "            │       \n",
       "q_4: ────X──X──X────\n",
       "         │     │    \n",
       "q_5: ────┼─────┼────\n",
       "         │     │    \n",
       "q_6: ────┼─────┼────\n",
       "         │     │    \n",
       "q_7: ─X──X─────X──X─\n",
       "      │           │ \n",
       "q_8: ─X───────────X─\n",
       "                    </pre>"
      ],
      "text/plain": [
       "                    \n",
       "q_0: ─X────────X────\n",
       "      │        │    \n",
       "q_1: ─X─────X──X────\n",
       "            │       \n",
       "q_2: ───────┼───────\n",
       "            │       \n",
       "q_3: ───────┼───────\n",
       "            │       \n",
       "q_4: ────X──X──X────\n",
       "         │     │    \n",
       "q_5: ────┼─────┼────\n",
       "         │     │    \n",
       "q_6: ────┼─────┼────\n",
       "         │     │    \n",
       "q_7: ─X──X─────X──X─\n",
       "      │           │ \n",
       "q_8: ─X───────────X─\n",
       "                    "
      ]
     },
     "execution_count": 18,
     "metadata": {},
     "output_type": "execute_result"
    }
   ],
   "source": [
    "qc_perm_output = rls.synth(qc_perm_input, num_searches=1000, num_mcts_searches=0, deterministic=False)\n",
    "qc_perm_output.draw(fold=-1)"
   ]
  },
  {
   "cell_type": "markdown",
   "id": "ae2a3a9e",
   "metadata": {},
   "source": [
    "## Linear Function"
   ]
  },
  {
   "cell_type": "code",
   "execution_count": 19,
   "id": "d914266f",
   "metadata": {},
   "outputs": [
    {
     "name": "stderr",
     "output_type": "stream",
     "text": [
      "\u001b[32m2025-09-01 19:19:55.469\u001b[0m | \u001b[1mINFO    \u001b[0m | \u001b[36mtwisterl.rl.algorithm\u001b[0m:\u001b[36mlearn\u001b[0m:\u001b[36m152\u001b[0m - \u001b[1m(1/0) {'successes': {'ppo_deterministic': 0.11999999731779099, 'ppo_10': 0.7599999904632568}, 'rewards': {'ppo_deterministic': -0.32734376192092896, 'ppo_10': 0.6351562738418579}, 'difficulty': 1, 'success': 0.11999999731779099, 'reward': -0.32734376192092896} | {'to_rust': 0.004224525, 'eval_ppo_deterministic': 0.003354417, 'eval_ppo_10': 0.010295717, 'collect': 0.013939636, 'data_to_torch': 0.011973222, 'train': 0.025935893, 'total': 0.070098516}\u001b[0m\n",
      "\u001b[32m2025-09-01 19:19:55.474\u001b[0m | \u001b[1mINFO    \u001b[0m | \u001b[36mtwisterl.rl.algorithm\u001b[0m:\u001b[36mlearn\u001b[0m:\u001b[36m160\u001b[0m - \u001b[1m(1/0) Improved, saved checkpoint!\u001b[0m\n",
      "\u001b[32m2025-09-01 19:19:55.557\u001b[0m | \u001b[1mINFO    \u001b[0m | \u001b[36mtwisterl.rl.algorithm\u001b[0m:\u001b[36mlearn\u001b[0m:\u001b[36m152\u001b[0m - \u001b[1m(1/1) {'successes': {'ppo_deterministic': 0.20999999344348907, 'ppo_10': 0.800000011920929}, 'rewards': {'ppo_deterministic': -0.19199219346046448, 'ppo_10': 0.6953125}, 'difficulty': 1, 'success': 0.20999999344348907, 'reward': -0.19199219346046448} | {'to_rust': 0.004474601, 'eval_ppo_deterministic': 0.004194665, 'eval_ppo_10': 0.009930997, 'collect': 0.01603531, 'data_to_torch': 0.013255714, 'train': 0.025115672, 'total': 0.073407689}\u001b[0m\n",
      "\u001b[32m2025-09-01 19:19:55.560\u001b[0m | \u001b[1mINFO    \u001b[0m | \u001b[36mtwisterl.rl.algorithm\u001b[0m:\u001b[36mlearn\u001b[0m:\u001b[36m160\u001b[0m - \u001b[1m(1/1) Improved, saved checkpoint!\u001b[0m\n",
      "\u001b[32m2025-09-01 19:19:55.641\u001b[0m | \u001b[1mINFO    \u001b[0m | \u001b[36mtwisterl.rl.algorithm\u001b[0m:\u001b[36mlearn\u001b[0m:\u001b[36m152\u001b[0m - \u001b[1m(1/2) {'successes': {'ppo_deterministic': 0.12999999523162842, 'ppo_10': 0.7699999809265137}, 'rewards': {'ppo_deterministic': -0.31230467557907104, 'ppo_10': 0.650195300579071}, 'difficulty': 1, 'success': 0.12999999523162842, 'reward': -0.31230467557907104} | {'to_rust': 0.008620791, 'eval_ppo_deterministic': 0.007015128, 'eval_ppo_10': 0.010959833, 'collect': 0.014504197, 'data_to_torch': 0.012302305, 'train': 0.025532469, 'total': 0.07934677}\u001b[0m\n",
      "\u001b[32m2025-09-01 19:19:55.717\u001b[0m | \u001b[1mINFO    \u001b[0m | \u001b[36mtwisterl.rl.algorithm\u001b[0m:\u001b[36mlearn\u001b[0m:\u001b[36m152\u001b[0m - \u001b[1m(1/3) {'successes': {'ppo_deterministic': 0.10000000149011612, 'ppo_10': 0.7599999904632568}, 'rewards': {'ppo_deterministic': -0.357421875, 'ppo_10': 0.6351562738418579}, 'difficulty': 1, 'success': 0.10000000149011612, 'reward': -0.357421875} | {'to_rust': 0.008488563, 'eval_ppo_deterministic': 0.004252783, 'eval_ppo_10': 0.010557295, 'collect': 0.015307876, 'data_to_torch': 0.011334914, 'train': 0.025226863, 'total': 0.075570202}\u001b[0m\n",
      "\u001b[32m2025-09-01 19:19:55.803\u001b[0m | \u001b[1mINFO    \u001b[0m | \u001b[36mtwisterl.rl.algorithm\u001b[0m:\u001b[36mlearn\u001b[0m:\u001b[36m152\u001b[0m - \u001b[1m(1/4) {'successes': {'ppo_deterministic': 0.17000000178813934, 'ppo_10': 0.7699999809265137}, 'rewards': {'ppo_deterministic': -0.25214844942092896, 'ppo_10': 0.650195300579071}, 'difficulty': 1, 'success': 0.17000000178813934, 'reward': -0.25214844942092896} | {'to_rust': 0.007780422, 'eval_ppo_deterministic': 0.003659146, 'eval_ppo_10': 0.017043951, 'collect': 0.017963697, 'data_to_torch': 0.011790732, 'train': 0.026097581, 'total': 0.084746929}\u001b[0m\n",
      "\u001b[32m2025-09-01 19:19:55.880\u001b[0m | \u001b[1mINFO    \u001b[0m | \u001b[36mtwisterl.rl.algorithm\u001b[0m:\u001b[36mlearn\u001b[0m:\u001b[36m152\u001b[0m - \u001b[1m(1/5) {'successes': {'ppo_deterministic': 0.14000000059604645, 'ppo_10': 0.7200000286102295}, 'rewards': {'ppo_deterministic': -0.2972656190395355, 'ppo_10': 0.574999988079071}, 'difficulty': 1, 'success': 0.14000000059604645, 'reward': -0.2972656190395355} | {'to_rust': 0.007596112, 'eval_ppo_deterministic': 0.003618832, 'eval_ppo_10': 0.010264435, 'collect': 0.014522766, 'data_to_torch': 0.012610145, 'train': 0.025753194, 'total': 0.074803523}\u001b[0m\n",
      "\u001b[32m2025-09-01 19:19:55.956\u001b[0m | \u001b[1mINFO    \u001b[0m | \u001b[36mtwisterl.rl.algorithm\u001b[0m:\u001b[36mlearn\u001b[0m:\u001b[36m152\u001b[0m - \u001b[1m(1/6) {'successes': {'ppo_deterministic': 0.07999999821186066, 'ppo_10': 0.7900000214576721}, 'rewards': {'ppo_deterministic': -0.38749998807907104, 'ppo_10': 0.6802734136581421}, 'difficulty': 1, 'success': 0.07999999821186066, 'reward': -0.38749998807907104} | {'to_rust': 0.008168216, 'eval_ppo_deterministic': 0.003589126, 'eval_ppo_10': 0.010285224, 'collect': 0.016076213, 'data_to_torch': 0.011962392, 'train': 0.025283951, 'total': 0.075771408}\u001b[0m\n",
      "\u001b[32m2025-09-01 19:19:56.034\u001b[0m | \u001b[1mINFO    \u001b[0m | \u001b[36mtwisterl.rl.algorithm\u001b[0m:\u001b[36mlearn\u001b[0m:\u001b[36m152\u001b[0m - \u001b[1m(1/7) {'successes': {'ppo_deterministic': 0.07999999821186066, 'ppo_10': 0.7799999713897705}, 'rewards': {'ppo_deterministic': -0.38749998807907104, 'ppo_10': 0.665234386920929}, 'difficulty': 1, 'success': 0.07999999821186066, 'reward': -0.38749998807907104} | {'to_rust': 0.007906837, 'eval_ppo_deterministic': 0.008108762, 'eval_ppo_10': 0.00890762, 'collect': 0.015054452, 'data_to_torch': 0.011417949, 'train': 0.025028739, 'total': 0.07679066}\u001b[0m\n",
      "\u001b[32m2025-09-01 19:19:56.111\u001b[0m | \u001b[1mINFO    \u001b[0m | \u001b[36mtwisterl.rl.algorithm\u001b[0m:\u001b[36mlearn\u001b[0m:\u001b[36m152\u001b[0m - \u001b[1m(1/8) {'successes': {'ppo_deterministic': 0.1599999964237213, 'ppo_10': 0.8899999856948853}, 'rewards': {'ppo_deterministic': -0.2671875059604645, 'ppo_10': 0.8306640386581421}, 'difficulty': 1, 'success': 0.1599999964237213, 'reward': -0.2671875059604645} | {'to_rust': 0.007571654, 'eval_ppo_deterministic': 0.003476735, 'eval_ppo_10': 0.00951359, 'collect': 0.015755962, 'data_to_torch': 0.01327543, 'train': 0.025357715, 'total': 0.07534973}\u001b[0m\n",
      "\u001b[32m2025-09-01 19:19:56.185\u001b[0m | \u001b[1mINFO    \u001b[0m | \u001b[36mtwisterl.rl.algorithm\u001b[0m:\u001b[36mlearn\u001b[0m:\u001b[36m152\u001b[0m - \u001b[1m(1/9) {'successes': {'ppo_deterministic': 0.33000001311302185, 'ppo_10': 0.9200000166893005}, 'rewards': {'ppo_deterministic': -0.011523437686264515, 'ppo_10': 0.875781238079071}, 'difficulty': 1, 'success': 0.33000001311302185, 'reward': -0.011523437686264515} | {'to_rust': 0.007446343, 'eval_ppo_deterministic': 0.003411428, 'eval_ppo_10': 0.01056093, 'collect': 0.01436548, 'data_to_torch': 0.011264096, 'train': 0.02498358, 'total': 0.072421565}\u001b[0m\n",
      "\u001b[32m2025-09-01 19:19:56.188\u001b[0m | \u001b[1mINFO    \u001b[0m | \u001b[36mtwisterl.rl.algorithm\u001b[0m:\u001b[36mlearn\u001b[0m:\u001b[36m160\u001b[0m - \u001b[1m(1/9) Improved, saved checkpoint!\u001b[0m\n"
     ]
    }
   ],
   "source": [
    "cmap_6_line = CouplingMap.from_line(5, bidirectional=True)\n",
    "env = LinearFunctionGym.from_coupling_map(cmap_6_line, basis_gates=[\"CX\"])\n",
    "\n",
    "rls = RLSynthesis(env, PPOConfig(), BasicPolicyConfig())\n",
    "rls.learn(num_iterations=10, tb_path=\"runs/lf_5_line_ppo/\")  # This will track progress in Tensorboard"
   ]
  },
  {
   "cell_type": "code",
   "execution_count": 20,
   "id": "0ed06ac8",
   "metadata": {},
   "outputs": [],
   "source": [
    "#rls.save(\"models/lf_5_line.json\", \"models/lf_5_line.pt\")\n",
    "\n",
    "rls = RLSynthesis.from_config_json(\"models/lf_5_line.json\", \"models/lf_5_line.pt\")"
   ]
  },
  {
   "cell_type": "code",
   "execution_count": 21,
   "id": "b4471e7d",
   "metadata": {},
   "outputs": [
    {
     "data": {
      "text/html": [
       "<pre style=\"word-wrap: normal;white-space: pre;background: #fff0;line-height: 1.1;font-family: &quot;Courier New&quot;,Courier,monospace\">          \n",
       "q_0: ──■──\n",
       "       │  \n",
       "q_1: ──┼──\n",
       "       │  \n",
       "q_2: ──┼──\n",
       "       │  \n",
       "q_3: ──┼──\n",
       "     ┌─┴─┐\n",
       "q_4: ┤ X ├\n",
       "     └───┘</pre>"
      ],
      "text/plain": [
       "          \n",
       "q_0: ──■──\n",
       "       │  \n",
       "q_1: ──┼──\n",
       "       │  \n",
       "q_2: ──┼──\n",
       "       │  \n",
       "q_3: ──┼──\n",
       "     ┌─┴─┐\n",
       "q_4: ┤ X ├\n",
       "     └───┘"
      ]
     },
     "execution_count": 21,
     "metadata": {},
     "output_type": "execute_result"
    }
   ],
   "source": [
    "qc_lf_input = QuantumCircuit(5)\n",
    "qc_lf_input.cx(0,4)\n",
    "qc_lf_input.draw(fold=-1)"
   ]
  },
  {
   "cell_type": "code",
   "execution_count": 22,
   "id": "16d02eb9",
   "metadata": {},
   "outputs": [
    {
     "data": {
      "text/html": [
       "<pre style=\"word-wrap: normal;white-space: pre;background: #fff0;line-height: 1.1;font-family: &quot;Courier New&quot;,Courier,monospace\">                                                  \n",
       "q_0: ──■───────────────────■──────────────────────\n",
       "     ┌─┴─┐               ┌─┴─┐                    \n",
       "q_1: ┤ X ├──■─────────■──┤ X ├──■─────────■───────\n",
       "     └───┘┌─┴─┐     ┌─┴─┐└───┘┌─┴─┐     ┌─┴─┐     \n",
       "q_2: ─────┤ X ├──■──┤ X ├─────┤ X ├──■──┤ X ├─────\n",
       "     ┌───┐└───┘┌─┴─┐└───┘     └───┘┌─┴─┐└───┘┌───┐\n",
       "q_3: ┤ X ├──■──┤ X ├───────────────┤ X ├──■──┤ X ├\n",
       "     └─┬─┘┌─┴─┐└───┘               └───┘┌─┴─┐└─┬─┘\n",
       "q_4: ──■──┤ X ├─────────────────────────┤ X ├──■──\n",
       "          └───┘                         └───┘     </pre>"
      ],
      "text/plain": [
       "                                                  \n",
       "q_0: ──■───────────────────■──────────────────────\n",
       "     ┌─┴─┐               ┌─┴─┐                    \n",
       "q_1: ┤ X ├──■─────────■──┤ X ├──■─────────■───────\n",
       "     └───┘┌─┴─┐     ┌─┴─┐└───┘┌─┴─┐     ┌─┴─┐     \n",
       "q_2: ─────┤ X ├──■──┤ X ├─────┤ X ├──■──┤ X ├─────\n",
       "     ┌───┐└───┘┌─┴─┐└───┘     └───┘┌─┴─┐└───┘┌───┐\n",
       "q_3: ┤ X ├──■──┤ X ├───────────────┤ X ├──■──┤ X ├\n",
       "     └─┬─┘┌─┴─┐└───┘               └───┘┌─┴─┐└─┬─┘\n",
       "q_4: ──■──┤ X ├─────────────────────────┤ X ├──■──\n",
       "          └───┘                         └───┘     "
      ]
     },
     "execution_count": 22,
     "metadata": {},
     "output_type": "execute_result"
    }
   ],
   "source": [
    "qc_lf_output = rls.synth(qc_lf_input, num_searches=1000, num_mcts_searches=0, deterministic=False)\n",
    "qc_lf_output.draw(fold=-1)"
   ]
  },
  {
   "cell_type": "code",
   "execution_count": 23,
   "metadata": {},
   "outputs": [
    {
     "data": {
      "text/plain": [
       "np.True_"
      ]
     },
     "execution_count": 23,
     "metadata": {},
     "output_type": "execute_result"
    }
   ],
   "source": [
    "from qiskit.circuit.library.generalized_gates import LinearFunction\n",
    "LinearFunction(qc_lf_input) == LinearFunction(qc_lf_output)"
   ]
  },
  {
   "cell_type": "markdown",
   "id": "f52db456",
   "metadata": {},
   "source": [
    "## Clifford"
   ]
  },
  {
   "cell_type": "code",
   "execution_count": 24,
   "id": "2372b233",
   "metadata": {},
   "outputs": [
    {
     "name": "stderr",
     "output_type": "stream",
     "text": [
      "\u001b[32m2025-09-01 19:19:56.971\u001b[0m | \u001b[1mINFO    \u001b[0m | \u001b[36mtwisterl.rl.algorithm\u001b[0m:\u001b[36mlearn\u001b[0m:\u001b[36m152\u001b[0m - \u001b[1m(1/0) {'successes': {'ppo_deterministic': 0.12999999523162842, 'ppo_10': 0.699999988079071}, 'rewards': {'ppo_deterministic': -0.31230467557907104, 'ppo_10': 0.544921875}, 'difficulty': 1, 'success': 0.12999999523162842, 'reward': -0.31230467557907104} | {'to_rust': 0.004441711, 'eval_ppo_deterministic': 0.00365014, 'eval_ppo_10': 0.009906731, 'collect': 0.014079772, 'data_to_torch': 0.012533491, 'train': 0.025506229, 'total': 0.070566164}\u001b[0m\n",
      "\u001b[32m2025-09-01 19:19:57.057\u001b[0m | \u001b[1mINFO    \u001b[0m | \u001b[36mtwisterl.rl.algorithm\u001b[0m:\u001b[36mlearn\u001b[0m:\u001b[36m152\u001b[0m - \u001b[1m(1/1) {'successes': {'ppo_deterministic': 0.14000000059604645, 'ppo_10': 0.7300000190734863}, 'rewards': {'ppo_deterministic': -0.2972656190395355, 'ppo_10': 0.590039074420929}, 'difficulty': 1, 'success': 0.14000000059604645, 'reward': -0.2972656190395355} | {'to_rust': 0.004478244, 'eval_ppo_deterministic': 0.004108321, 'eval_ppo_10': 0.010446658, 'collect': 0.015772113, 'data_to_torch': 0.012683606, 'train': 0.025141633, 'total': 0.07308784}\u001b[0m\n",
      "\u001b[32m2025-09-01 19:19:57.136\u001b[0m | \u001b[1mINFO    \u001b[0m | \u001b[36mtwisterl.rl.algorithm\u001b[0m:\u001b[36mlearn\u001b[0m:\u001b[36m152\u001b[0m - \u001b[1m(1/2) {'successes': {'ppo_deterministic': 0.4399999976158142, 'ppo_10': 0.7699999809265137}, 'rewards': {'ppo_deterministic': 0.15390625596046448, 'ppo_10': 0.650195300579071}, 'difficulty': 1, 'success': 0.4399999976158142, 'reward': 0.15390625596046448} | {'to_rust': 0.007613471, 'eval_ppo_deterministic': 0.003880797, 'eval_ppo_10': 0.011514099, 'collect': 0.015685812, 'data_to_torch': 0.014380787, 'train': 0.024802298, 'total': 0.0783106}\u001b[0m\n",
      "\u001b[32m2025-09-01 19:19:57.139\u001b[0m | \u001b[1mINFO    \u001b[0m | \u001b[36mtwisterl.rl.algorithm\u001b[0m:\u001b[36mlearn\u001b[0m:\u001b[36m160\u001b[0m - \u001b[1m(1/2) Improved, saved checkpoint!\u001b[0m\n",
      "\u001b[32m2025-09-01 19:19:57.220\u001b[0m | \u001b[1mINFO    \u001b[0m | \u001b[36mtwisterl.rl.algorithm\u001b[0m:\u001b[36mlearn\u001b[0m:\u001b[36m152\u001b[0m - \u001b[1m(1/3) {'successes': {'ppo_deterministic': 0.6600000262260437, 'ppo_10': 0.8100000023841858}, 'rewards': {'ppo_deterministic': 0.4847656190395355, 'ppo_10': 0.7103515863418579}, 'difficulty': 1, 'success': 0.6600000262260437, 'reward': 0.4847656190395355} | {'to_rust': 0.00794013, 'eval_ppo_deterministic': 0.003895162, 'eval_ppo_10': 0.00954301, 'collect': 0.019320479, 'data_to_torch': 0.014009221, 'train': 0.024920835, 'total': 0.080116613}\u001b[0m\n",
      "\u001b[32m2025-09-01 19:19:57.223\u001b[0m | \u001b[1mINFO    \u001b[0m | \u001b[36mtwisterl.rl.algorithm\u001b[0m:\u001b[36mlearn\u001b[0m:\u001b[36m160\u001b[0m - \u001b[1m(1/3) Improved, saved checkpoint!\u001b[0m\n",
      "\u001b[32m2025-09-01 19:19:57.299\u001b[0m | \u001b[1mINFO    \u001b[0m | \u001b[36mtwisterl.rl.algorithm\u001b[0m:\u001b[36mlearn\u001b[0m:\u001b[36m152\u001b[0m - \u001b[1m(1/4) {'successes': {'ppo_deterministic': 0.7400000095367432, 'ppo_10': 0.7900000214576721}, 'rewards': {'ppo_deterministic': 0.6050781011581421, 'ppo_10': 0.6802734136581421}, 'difficulty': 1, 'success': 0.7400000095367432, 'reward': 0.6050781011581421} | {'to_rust': 0.008023206, 'eval_ppo_deterministic': 0.003425767, 'eval_ppo_10': 0.010058929, 'collect': 0.013164477, 'data_to_torch': 0.014351029, 'train': 0.025944299, 'total': 0.075409327}\u001b[0m\n",
      "\u001b[32m2025-09-01 19:19:57.302\u001b[0m | \u001b[1mINFO    \u001b[0m | \u001b[36mtwisterl.rl.algorithm\u001b[0m:\u001b[36mlearn\u001b[0m:\u001b[36m160\u001b[0m - \u001b[1m(1/4) Improved, saved checkpoint!\u001b[0m\n",
      "\u001b[32m2025-09-01 19:19:57.381\u001b[0m | \u001b[1mINFO    \u001b[0m | \u001b[36mtwisterl.rl.algorithm\u001b[0m:\u001b[36mlearn\u001b[0m:\u001b[36m152\u001b[0m - \u001b[1m(1/5) {'successes': {'ppo_deterministic': 0.7599999904632568, 'ppo_10': 0.8100000023841858}, 'rewards': {'ppo_deterministic': 0.6351562738418579, 'ppo_10': 0.7103515863418579}, 'difficulty': 1, 'success': 0.7599999904632568, 'reward': 0.6351562738418579} | {'to_rust': 0.007958027, 'eval_ppo_deterministic': 0.003608347, 'eval_ppo_10': 0.011664188, 'collect': 0.015363717, 'data_to_torch': 0.013698751, 'train': 0.02483538, 'total': 0.077590529}\u001b[0m\n",
      "\u001b[32m2025-09-01 19:19:57.384\u001b[0m | \u001b[1mINFO    \u001b[0m | \u001b[36mtwisterl.rl.algorithm\u001b[0m:\u001b[36mlearn\u001b[0m:\u001b[36m160\u001b[0m - \u001b[1m(1/5) Improved, saved checkpoint!\u001b[0m\n",
      "\u001b[32m2025-09-01 19:19:57.461\u001b[0m | \u001b[1mINFO    \u001b[0m | \u001b[36mtwisterl.rl.algorithm\u001b[0m:\u001b[36mlearn\u001b[0m:\u001b[36m148\u001b[0m - \u001b[1m(2/6) Diff increased to 2, (1, 0.8899999856948853, 0.8306640386581421)\u001b[0m\n",
      "\u001b[32m2025-09-01 19:19:57.461\u001b[0m | \u001b[1mINFO    \u001b[0m | \u001b[36mtwisterl.rl.algorithm\u001b[0m:\u001b[36mlearn\u001b[0m:\u001b[36m152\u001b[0m - \u001b[1m(2/6) {'successes': {'ppo_deterministic': 0.8899999856948853, 'ppo_10': 0.8700000047683716}, 'rewards': {'ppo_deterministic': 0.8306640386581421, 'ppo_10': 0.800585925579071}, 'difficulty': 1, 'success': 0.8899999856948853, 'reward': 0.8306640386581421} | {'to_rust': 0.008121878, 'eval_ppo_deterministic': 0.003350465, 'eval_ppo_10': 0.009852769, 'collect': 0.015442196, 'data_to_torch': 0.014000022, 'train': 0.024748065, 'total': 0.07594707}\u001b[0m\n",
      "\u001b[32m2025-09-01 19:19:57.464\u001b[0m | \u001b[1mINFO    \u001b[0m | \u001b[36mtwisterl.rl.algorithm\u001b[0m:\u001b[36mlearn\u001b[0m:\u001b[36m160\u001b[0m - \u001b[1m(2/6) Improved, saved checkpoint!\u001b[0m\n",
      "\u001b[32m2025-09-01 19:19:57.559\u001b[0m | \u001b[1mINFO    \u001b[0m | \u001b[36mtwisterl.rl.algorithm\u001b[0m:\u001b[36mlearn\u001b[0m:\u001b[36m152\u001b[0m - \u001b[1m(2/7) {'successes': {'ppo_deterministic': 0.6399999856948853, 'ppo_10': 0.6100000143051147}, 'rewards': {'ppo_deterministic': 0.4500781297683716, 'ppo_10': 0.4046093821525574}, 'difficulty': 2, 'success': 0.6399999856948853, 'reward': 0.4500781297683716} | {'to_rust': 0.010187935, 'eval_ppo_deterministic': 0.004004266, 'eval_ppo_10': 0.014216121, 'collect': 0.019753571, 'data_to_torch': 0.019551313, 'train': 0.025901349, 'total': 0.094247669}\u001b[0m\n",
      "\u001b[32m2025-09-01 19:19:57.562\u001b[0m | \u001b[1mINFO    \u001b[0m | \u001b[36mtwisterl.rl.algorithm\u001b[0m:\u001b[36mlearn\u001b[0m:\u001b[36m160\u001b[0m - \u001b[1m(2/7) Improved, saved checkpoint!\u001b[0m\n",
      "\u001b[32m2025-09-01 19:19:57.655\u001b[0m | \u001b[1mINFO    \u001b[0m | \u001b[36mtwisterl.rl.algorithm\u001b[0m:\u001b[36mlearn\u001b[0m:\u001b[36m152\u001b[0m - \u001b[1m(2/8) {'successes': {'ppo_deterministic': 0.6299999952316284, 'ppo_10': 0.6399999856948853}, 'rewards': {'ppo_deterministic': 0.4351562559604645, 'ppo_10': 0.4493750035762787}, 'difficulty': 2, 'success': 0.6299999952316284, 'reward': 0.4351562559604645} | {'to_rust': 0.007664134, 'eval_ppo_deterministic': 0.003568714, 'eval_ppo_10': 0.015869996, 'collect': 0.020518225, 'data_to_torch': 0.019086934, 'train': 0.024949411, 'total': 0.092272669}\u001b[0m\n",
      "\u001b[32m2025-09-01 19:19:57.755\u001b[0m | \u001b[1mINFO    \u001b[0m | \u001b[36mtwisterl.rl.algorithm\u001b[0m:\u001b[36mlearn\u001b[0m:\u001b[36m152\u001b[0m - \u001b[1m(2/9) {'successes': {'ppo_deterministic': 0.6299999952316284, 'ppo_10': 0.7200000286102295}, 'rewards': {'ppo_deterministic': 0.43531250953674316, 'ppo_10': 0.5700781345367432}, 'difficulty': 2, 'success': 0.6299999952316284, 'reward': 0.43531250953674316} | {'to_rust': 0.0077024, 'eval_ppo_deterministic': 0.00384248, 'eval_ppo_10': 0.016121172, 'collect': 0.019698625, 'data_to_torch': 0.021149136, 'train': 0.028843862, 'total': 0.09847211}\u001b[0m\n"
     ]
    }
   ],
   "source": [
    "# Here we want to do Clifford synthesis but we only allow H and S to be placed on qubit 0\n",
    "env = CliffordGym(\n",
    "    num_qubits=3, \n",
    "    gateset=[\n",
    "        (\"CX\", [0,1]),\n",
    "        (\"CX\", [1,0]),\n",
    "        (\"CX\", [1,2]),\n",
    "        (\"CX\", [2,1]),\n",
    "        (\"SWAP\", [0,1]),\n",
    "        (\"SWAP\", [1,2]),\n",
    "        (\"H\", [0]),\n",
    "        (\"S\", [0]),\n",
    "    ]\n",
    ")\n",
    "rls = RLSynthesis(env, PPOConfig(), BasicPolicyConfig())\n",
    "rls.learn(num_iterations=10, tb_path=\"runs/clifford_3q_custom/\")"
   ]
  },
  {
   "cell_type": "code",
   "execution_count": 25,
   "id": "e7277982",
   "metadata": {},
   "outputs": [],
   "source": [
    "#rls.save(\"models/clifford_3q_custom.json\", \"models/clifford_3q_custom.pt\")\n",
    "\n",
    "rls = RLSynthesis.from_config_json(\"models/clifford_3q_custom.json\", \"models/clifford_3q_custom.pt\")"
   ]
  },
  {
   "cell_type": "code",
   "execution_count": 26,
   "id": "e11ec37a",
   "metadata": {},
   "outputs": [],
   "source": [
    "from qiskit.quantum_info import random_clifford, Clifford"
   ]
  },
  {
   "cell_type": "code",
   "execution_count": 27,
   "id": "5be6f5b0",
   "metadata": {},
   "outputs": [
    {
     "data": {
      "text/html": [
       "<pre style=\"word-wrap: normal;white-space: pre;background: #fff0;line-height: 1.1;font-family: &quot;Courier New&quot;,Courier,monospace\">           ┌───┐      \n",
       "q_0: ────X─┤ H ├─X────\n",
       "         │ └───┘ │    \n",
       "q_1: ─X──X───────X──X─\n",
       "      │             │ \n",
       "q_2: ─X─────────────X─\n",
       "                      </pre>"
      ],
      "text/plain": [
       "           ┌───┐      \n",
       "q_0: ────X─┤ H ├─X────\n",
       "         │ └───┘ │    \n",
       "q_1: ─X──X───────X──X─\n",
       "      │             │ \n",
       "q_2: ─X─────────────X─\n",
       "                      "
      ]
     },
     "execution_count": 27,
     "metadata": {},
     "output_type": "execute_result"
    }
   ],
   "source": [
    "qc_clifford_in = QuantumCircuit(3)\n",
    "qc_clifford_in.h(2)\n",
    "\n",
    "qc_clifford_out = rls.synth(qc_clifford_in, num_searches=1000, num_mcts_searches=0, deterministic=False)\n",
    "qc_clifford_out.draw(fold=-1)"
   ]
  },
  {
   "cell_type": "code",
   "execution_count": 28,
   "id": "1b815df8",
   "metadata": {},
   "outputs": [
    {
     "data": {
      "text/html": [
       "<pre style=\"word-wrap: normal;white-space: pre;background: #fff0;line-height: 1.1;font-family: &quot;Courier New&quot;,Courier,monospace\">        ┌───┐        ┌───┐┌───┐        ┌───┐     ┌───┐   ┌───┐\n",
       "q_0: ─X─┤ H ├──────X─┤ H ├┤ S ├─X───■──┤ S ├─────┤ X ├─X─┤ H ├\n",
       "      │ └───┘┌───┐ │ └───┘└───┘ │ ┌─┴─┐└───┘┌───┐└─┬─┘ │ └───┘\n",
       "q_1: ─X───■──┤ X ├─X────────────X─┤ X ├──X──┤ X ├──■───X──────\n",
       "        ┌─┴─┐└─┬─┘                └───┘  │  └─┬─┘             \n",
       "q_2: ───┤ X ├──■─────────────────────────X────■───────────────\n",
       "        └───┘                                                 </pre>"
      ],
      "text/plain": [
       "        ┌───┐        ┌───┐┌───┐        ┌───┐     ┌───┐   ┌───┐\n",
       "q_0: ─X─┤ H ├──────X─┤ H ├┤ S ├─X───■──┤ S ├─────┤ X ├─X─┤ H ├\n",
       "      │ └───┘┌───┐ │ └───┘└───┘ │ ┌─┴─┐└───┘┌───┐└─┬─┘ │ └───┘\n",
       "q_1: ─X───■──┤ X ├─X────────────X─┤ X ├──X──┤ X ├──■───X──────\n",
       "        ┌─┴─┐└─┬─┘                └───┘  │  └─┬─┘             \n",
       "q_2: ───┤ X ├──■─────────────────────────X────■───────────────\n",
       "        └───┘                                                 "
      ]
     },
     "execution_count": 28,
     "metadata": {},
     "output_type": "execute_result"
    }
   ],
   "source": [
    "some_clifford = random_clifford(3, seed=42)\n",
    "qc_rand_clifford_out = rls.synth(some_clifford, num_searches=1000, num_mcts_searches=0, deterministic=False)\n",
    "qc_rand_clifford_out.draw(fold=-1)"
   ]
  },
  {
   "cell_type": "code",
   "execution_count": 29,
   "id": "bed519ab",
   "metadata": {},
   "outputs": [
    {
     "data": {
      "text/plain": [
       "True"
      ]
     },
     "execution_count": 29,
     "metadata": {},
     "output_type": "execute_result"
    }
   ],
   "source": [
    "# Equivalent up to phase\n",
    "np.array_equal(some_clifford.tableau[:,:-1], Clifford(qc_rand_clifford_out).tableau[:,:-1])"
   ]
  }
 ],
 "metadata": {
  "kernelspec": {
   "display_name": ".venv",
   "language": "python",
   "name": "python3"
  },
  "language_info": {
   "codemirror_mode": {
    "name": "ipython",
    "version": 3
   },
   "file_extension": ".py",
   "mimetype": "text/x-python",
   "name": "python",
   "nbconvert_exporter": "python",
   "pygments_lexer": "ipython3",
   "version": "3.11.13"
  }
 },
 "nbformat": 4,
 "nbformat_minor": 5
}
